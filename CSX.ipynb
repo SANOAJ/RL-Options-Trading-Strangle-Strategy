{
  "nbformat": 4,
  "nbformat_minor": 0,
  "metadata": {
    "colab": {
      "provenance": []
    },
    "kernelspec": {
      "name": "python3",
      "display_name": "Python 3"
    },
    "language_info": {
      "name": "python"
    }
  },
  "cells": [
    {
      "cell_type": "markdown",
      "source": [
        "#My name is 'Sanoaj Mallick'.\n",
        "According to these formula:-\n",
        "1. Take the your first name and add all the letter ( a=1,b=2, etc) - result = x\n",
        "2. Take the your last name and add all the letter ( a=1,b=2, etc) - result = y\n",
        "3. The strategy you’ll be applying will be (x*y)mod3+1\n",
        "\n",
        "#I will use 3.Strangle Strategy"
      ],
      "metadata": {
        "id": "lAPLaSIXeO7I"
      }
    },
    {
      "cell_type": "code",
      "source": [
        "pip install nsepythonserver"
      ],
      "metadata": {
        "colab": {
          "base_uri": "https://localhost:8080/"
        },
        "id": "vqpbel3ce04x",
        "outputId": "65885b26-84e0-49fe-b354-282deeeeee2d",
        "collapsed": true
      },
      "execution_count": null,
      "outputs": [
        {
          "output_type": "stream",
          "name": "stdout",
          "text": [
            "Collecting nsepythonserver\n",
            "  Downloading nsepythonserver-2.7-py3-none-any.whl (25 kB)\n",
            "Requirement already satisfied: requests in /usr/local/lib/python3.10/dist-packages (from nsepythonserver) (2.31.0)\n",
            "Requirement already satisfied: pandas in /usr/local/lib/python3.10/dist-packages (from nsepythonserver) (2.0.3)\n",
            "Requirement already satisfied: scipy in /usr/local/lib/python3.10/dist-packages (from nsepythonserver) (1.11.4)\n",
            "Requirement already satisfied: python-dateutil>=2.8.2 in /usr/local/lib/python3.10/dist-packages (from pandas->nsepythonserver) (2.8.2)\n",
            "Requirement already satisfied: pytz>=2020.1 in /usr/local/lib/python3.10/dist-packages (from pandas->nsepythonserver) (2023.4)\n",
            "Requirement already satisfied: tzdata>=2022.1 in /usr/local/lib/python3.10/dist-packages (from pandas->nsepythonserver) (2024.1)\n",
            "Requirement already satisfied: numpy>=1.21.0 in /usr/local/lib/python3.10/dist-packages (from pandas->nsepythonserver) (1.25.2)\n",
            "Requirement already satisfied: charset-normalizer<4,>=2 in /usr/local/lib/python3.10/dist-packages (from requests->nsepythonserver) (3.3.2)\n",
            "Requirement already satisfied: idna<4,>=2.5 in /usr/local/lib/python3.10/dist-packages (from requests->nsepythonserver) (3.7)\n",
            "Requirement already satisfied: urllib3<3,>=1.21.1 in /usr/local/lib/python3.10/dist-packages (from requests->nsepythonserver) (2.0.7)\n",
            "Requirement already satisfied: certifi>=2017.4.17 in /usr/local/lib/python3.10/dist-packages (from requests->nsepythonserver) (2024.2.2)\n",
            "Requirement already satisfied: six>=1.5 in /usr/local/lib/python3.10/dist-packages (from python-dateutil>=2.8.2->pandas->nsepythonserver) (1.16.0)\n",
            "Installing collected packages: nsepythonserver\n",
            "Successfully installed nsepythonserver-2.7\n"
          ]
        }
      ]
    },
    {
      "cell_type": "code",
      "source": [
        "pip install --upgrade nsepythonserver"
      ],
      "metadata": {
        "id": "bJx63i1Ke-pD",
        "colab": {
          "base_uri": "https://localhost:8080/"
        },
        "outputId": "abae7280-0930-47aa-d2c8-4125db2d01f6",
        "collapsed": true
      },
      "execution_count": null,
      "outputs": [
        {
          "output_type": "stream",
          "name": "stdout",
          "text": [
            "Requirement already satisfied: nsepythonserver in /usr/local/lib/python3.10/dist-packages (2.7)\n",
            "Requirement already satisfied: requests in /usr/local/lib/python3.10/dist-packages (from nsepythonserver) (2.31.0)\n",
            "Requirement already satisfied: pandas in /usr/local/lib/python3.10/dist-packages (from nsepythonserver) (2.0.3)\n",
            "Requirement already satisfied: scipy in /usr/local/lib/python3.10/dist-packages (from nsepythonserver) (1.11.4)\n",
            "Requirement already satisfied: python-dateutil>=2.8.2 in /usr/local/lib/python3.10/dist-packages (from pandas->nsepythonserver) (2.8.2)\n",
            "Requirement already satisfied: pytz>=2020.1 in /usr/local/lib/python3.10/dist-packages (from pandas->nsepythonserver) (2023.4)\n",
            "Requirement already satisfied: tzdata>=2022.1 in /usr/local/lib/python3.10/dist-packages (from pandas->nsepythonserver) (2024.1)\n",
            "Requirement already satisfied: numpy>=1.21.0 in /usr/local/lib/python3.10/dist-packages (from pandas->nsepythonserver) (1.25.2)\n",
            "Requirement already satisfied: charset-normalizer<4,>=2 in /usr/local/lib/python3.10/dist-packages (from requests->nsepythonserver) (3.3.2)\n",
            "Requirement already satisfied: idna<4,>=2.5 in /usr/local/lib/python3.10/dist-packages (from requests->nsepythonserver) (3.7)\n",
            "Requirement already satisfied: urllib3<3,>=1.21.1 in /usr/local/lib/python3.10/dist-packages (from requests->nsepythonserver) (2.0.7)\n",
            "Requirement already satisfied: certifi>=2017.4.17 in /usr/local/lib/python3.10/dist-packages (from requests->nsepythonserver) (2024.2.2)\n",
            "Requirement already satisfied: six>=1.5 in /usr/local/lib/python3.10/dist-packages (from python-dateutil>=2.8.2->pandas->nsepythonserver) (1.16.0)\n"
          ]
        }
      ]
    },
    {
      "cell_type": "code",
      "source": [
        "!pip show nsepythonserve"
      ],
      "metadata": {
        "id": "pzLJ9ER3e-qp",
        "colab": {
          "base_uri": "https://localhost:8080/"
        },
        "outputId": "68ce8433-1a6f-427b-c458-8b31d550543a"
      },
      "execution_count": null,
      "outputs": [
        {
          "output_type": "stream",
          "name": "stdout",
          "text": [
            "\u001b[33mWARNING: Package(s) not found: nsepythonserve\u001b[0m\u001b[33m\n",
            "\u001b[0m"
          ]
        }
      ]
    },
    {
      "cell_type": "code",
      "source": [
        "from google.colab import drive\n",
        "drive.mount('/content/drive')"
      ],
      "metadata": {
        "id": "_F0DT7ODRgMa",
        "colab": {
          "base_uri": "https://localhost:8080/"
        },
        "outputId": "edc7ffcc-d530-4954-eaa5-49b385ad6ddd"
      },
      "execution_count": null,
      "outputs": [
        {
          "output_type": "stream",
          "name": "stdout",
          "text": [
            "Mounted at /content/drive\n"
          ]
        }
      ]
    },
    {
      "cell_type": "code",
      "source": [
        "!pip install stable_baselines3"
      ],
      "metadata": {
        "colab": {
          "base_uri": "https://localhost:8080/"
        },
        "id": "cuhOqOlkiIRC",
        "outputId": "d6d876ab-3483-4128-deab-a9268eff407d",
        "collapsed": true
      },
      "execution_count": null,
      "outputs": [
        {
          "output_type": "stream",
          "name": "stdout",
          "text": [
            "Collecting stable_baselines3\n",
            "  Downloading stable_baselines3-2.3.2-py3-none-any.whl (182 kB)\n",
            "\u001b[2K     \u001b[90m━━━━━━━━━━━━━━━━━━━━━━━━━━━━━━━━━━━━━━━━\u001b[0m \u001b[32m182.3/182.3 kB\u001b[0m \u001b[31m4.1 MB/s\u001b[0m eta \u001b[36m0:00:00\u001b[0m\n",
            "\u001b[?25hCollecting gymnasium<0.30,>=0.28.1 (from stable_baselines3)\n",
            "  Downloading gymnasium-0.29.1-py3-none-any.whl (953 kB)\n",
            "\u001b[2K     \u001b[90m━━━━━━━━━━━━━━━━━━━━━━━━━━━━━━━━━━━━━━━━\u001b[0m \u001b[32m953.9/953.9 kB\u001b[0m \u001b[31m14.6 MB/s\u001b[0m eta \u001b[36m0:00:00\u001b[0m\n",
            "\u001b[?25hRequirement already satisfied: numpy>=1.20 in /usr/local/lib/python3.10/dist-packages (from stable_baselines3) (1.25.2)\n",
            "Requirement already satisfied: torch>=1.13 in /usr/local/lib/python3.10/dist-packages (from stable_baselines3) (2.2.1+cu121)\n",
            "Requirement already satisfied: cloudpickle in /usr/local/lib/python3.10/dist-packages (from stable_baselines3) (2.2.1)\n",
            "Requirement already satisfied: pandas in /usr/local/lib/python3.10/dist-packages (from stable_baselines3) (2.0.3)\n",
            "Requirement already satisfied: matplotlib in /usr/local/lib/python3.10/dist-packages (from stable_baselines3) (3.7.1)\n",
            "Requirement already satisfied: typing-extensions>=4.3.0 in /usr/local/lib/python3.10/dist-packages (from gymnasium<0.30,>=0.28.1->stable_baselines3) (4.11.0)\n",
            "Collecting farama-notifications>=0.0.1 (from gymnasium<0.30,>=0.28.1->stable_baselines3)\n",
            "  Downloading Farama_Notifications-0.0.4-py3-none-any.whl (2.5 kB)\n",
            "Requirement already satisfied: filelock in /usr/local/lib/python3.10/dist-packages (from torch>=1.13->stable_baselines3) (3.14.0)\n",
            "Requirement already satisfied: sympy in /usr/local/lib/python3.10/dist-packages (from torch>=1.13->stable_baselines3) (1.12)\n",
            "Requirement already satisfied: networkx in /usr/local/lib/python3.10/dist-packages (from torch>=1.13->stable_baselines3) (3.3)\n",
            "Requirement already satisfied: jinja2 in /usr/local/lib/python3.10/dist-packages (from torch>=1.13->stable_baselines3) (3.1.4)\n",
            "Requirement already satisfied: fsspec in /usr/local/lib/python3.10/dist-packages (from torch>=1.13->stable_baselines3) (2023.6.0)\n",
            "Collecting nvidia-cuda-nvrtc-cu12==12.1.105 (from torch>=1.13->stable_baselines3)\n",
            "  Using cached nvidia_cuda_nvrtc_cu12-12.1.105-py3-none-manylinux1_x86_64.whl (23.7 MB)\n",
            "Collecting nvidia-cuda-runtime-cu12==12.1.105 (from torch>=1.13->stable_baselines3)\n",
            "  Using cached nvidia_cuda_runtime_cu12-12.1.105-py3-none-manylinux1_x86_64.whl (823 kB)\n",
            "Collecting nvidia-cuda-cupti-cu12==12.1.105 (from torch>=1.13->stable_baselines3)\n",
            "  Using cached nvidia_cuda_cupti_cu12-12.1.105-py3-none-manylinux1_x86_64.whl (14.1 MB)\n",
            "Collecting nvidia-cudnn-cu12==8.9.2.26 (from torch>=1.13->stable_baselines3)\n",
            "  Using cached nvidia_cudnn_cu12-8.9.2.26-py3-none-manylinux1_x86_64.whl (731.7 MB)\n",
            "Collecting nvidia-cublas-cu12==12.1.3.1 (from torch>=1.13->stable_baselines3)\n",
            "  Using cached nvidia_cublas_cu12-12.1.3.1-py3-none-manylinux1_x86_64.whl (410.6 MB)\n",
            "Collecting nvidia-cufft-cu12==11.0.2.54 (from torch>=1.13->stable_baselines3)\n",
            "  Using cached nvidia_cufft_cu12-11.0.2.54-py3-none-manylinux1_x86_64.whl (121.6 MB)\n",
            "Collecting nvidia-curand-cu12==10.3.2.106 (from torch>=1.13->stable_baselines3)\n",
            "  Using cached nvidia_curand_cu12-10.3.2.106-py3-none-manylinux1_x86_64.whl (56.5 MB)\n",
            "Collecting nvidia-cusolver-cu12==11.4.5.107 (from torch>=1.13->stable_baselines3)\n",
            "  Using cached nvidia_cusolver_cu12-11.4.5.107-py3-none-manylinux1_x86_64.whl (124.2 MB)\n",
            "Collecting nvidia-cusparse-cu12==12.1.0.106 (from torch>=1.13->stable_baselines3)\n",
            "  Using cached nvidia_cusparse_cu12-12.1.0.106-py3-none-manylinux1_x86_64.whl (196.0 MB)\n",
            "Collecting nvidia-nccl-cu12==2.19.3 (from torch>=1.13->stable_baselines3)\n",
            "  Using cached nvidia_nccl_cu12-2.19.3-py3-none-manylinux1_x86_64.whl (166.0 MB)\n",
            "Collecting nvidia-nvtx-cu12==12.1.105 (from torch>=1.13->stable_baselines3)\n",
            "  Using cached nvidia_nvtx_cu12-12.1.105-py3-none-manylinux1_x86_64.whl (99 kB)\n",
            "Requirement already satisfied: triton==2.2.0 in /usr/local/lib/python3.10/dist-packages (from torch>=1.13->stable_baselines3) (2.2.0)\n",
            "Collecting nvidia-nvjitlink-cu12 (from nvidia-cusolver-cu12==11.4.5.107->torch>=1.13->stable_baselines3)\n",
            "  Using cached nvidia_nvjitlink_cu12-12.4.127-py3-none-manylinux2014_x86_64.whl (21.1 MB)\n",
            "Requirement already satisfied: contourpy>=1.0.1 in /usr/local/lib/python3.10/dist-packages (from matplotlib->stable_baselines3) (1.2.1)\n",
            "Requirement already satisfied: cycler>=0.10 in /usr/local/lib/python3.10/dist-packages (from matplotlib->stable_baselines3) (0.12.1)\n",
            "Requirement already satisfied: fonttools>=4.22.0 in /usr/local/lib/python3.10/dist-packages (from matplotlib->stable_baselines3) (4.51.0)\n",
            "Requirement already satisfied: kiwisolver>=1.0.1 in /usr/local/lib/python3.10/dist-packages (from matplotlib->stable_baselines3) (1.4.5)\n",
            "Requirement already satisfied: packaging>=20.0 in /usr/local/lib/python3.10/dist-packages (from matplotlib->stable_baselines3) (24.0)\n",
            "Requirement already satisfied: pillow>=6.2.0 in /usr/local/lib/python3.10/dist-packages (from matplotlib->stable_baselines3) (9.4.0)\n",
            "Requirement already satisfied: pyparsing>=2.3.1 in /usr/local/lib/python3.10/dist-packages (from matplotlib->stable_baselines3) (3.1.2)\n",
            "Requirement already satisfied: python-dateutil>=2.7 in /usr/local/lib/python3.10/dist-packages (from matplotlib->stable_baselines3) (2.8.2)\n",
            "Requirement already satisfied: pytz>=2020.1 in /usr/local/lib/python3.10/dist-packages (from pandas->stable_baselines3) (2023.4)\n",
            "Requirement already satisfied: tzdata>=2022.1 in /usr/local/lib/python3.10/dist-packages (from pandas->stable_baselines3) (2024.1)\n",
            "Requirement already satisfied: six>=1.5 in /usr/local/lib/python3.10/dist-packages (from python-dateutil>=2.7->matplotlib->stable_baselines3) (1.16.0)\n",
            "Requirement already satisfied: MarkupSafe>=2.0 in /usr/local/lib/python3.10/dist-packages (from jinja2->torch>=1.13->stable_baselines3) (2.1.5)\n",
            "Requirement already satisfied: mpmath>=0.19 in /usr/local/lib/python3.10/dist-packages (from sympy->torch>=1.13->stable_baselines3) (1.3.0)\n",
            "Installing collected packages: farama-notifications, nvidia-nvtx-cu12, nvidia-nvjitlink-cu12, nvidia-nccl-cu12, nvidia-curand-cu12, nvidia-cufft-cu12, nvidia-cuda-runtime-cu12, nvidia-cuda-nvrtc-cu12, nvidia-cuda-cupti-cu12, nvidia-cublas-cu12, gymnasium, nvidia-cusparse-cu12, nvidia-cudnn-cu12, nvidia-cusolver-cu12, stable_baselines3\n",
            "Successfully installed farama-notifications-0.0.4 gymnasium-0.29.1 nvidia-cublas-cu12-12.1.3.1 nvidia-cuda-cupti-cu12-12.1.105 nvidia-cuda-nvrtc-cu12-12.1.105 nvidia-cuda-runtime-cu12-12.1.105 nvidia-cudnn-cu12-8.9.2.26 nvidia-cufft-cu12-11.0.2.54 nvidia-curand-cu12-10.3.2.106 nvidia-cusolver-cu12-11.4.5.107 nvidia-cusparse-cu12-12.1.0.106 nvidia-nccl-cu12-2.19.3 nvidia-nvjitlink-cu12-12.4.127 nvidia-nvtx-cu12-12.1.105 stable_baselines3-2.3.2\n"
          ]
        }
      ]
    },
    {
      "cell_type": "code",
      "source": [
        "!pip install 'shimmy>=0.2.1'"
      ],
      "metadata": {
        "colab": {
          "base_uri": "https://localhost:8080/"
        },
        "id": "Xt-TJrLqiIUi",
        "outputId": "df62cb67-8701-4118-9869-912cc947193a",
        "collapsed": true
      },
      "execution_count": null,
      "outputs": [
        {
          "output_type": "stream",
          "name": "stdout",
          "text": [
            "Collecting shimmy>=0.2.1\n",
            "  Downloading Shimmy-1.3.0-py3-none-any.whl (37 kB)\n",
            "Requirement already satisfied: numpy>=1.18.0 in /usr/local/lib/python3.10/dist-packages (from shimmy>=0.2.1) (1.25.2)\n",
            "Requirement already satisfied: gymnasium>=0.27.0 in /usr/local/lib/python3.10/dist-packages (from shimmy>=0.2.1) (0.29.1)\n",
            "Requirement already satisfied: cloudpickle>=1.2.0 in /usr/local/lib/python3.10/dist-packages (from gymnasium>=0.27.0->shimmy>=0.2.1) (2.2.1)\n",
            "Requirement already satisfied: typing-extensions>=4.3.0 in /usr/local/lib/python3.10/dist-packages (from gymnasium>=0.27.0->shimmy>=0.2.1) (4.11.0)\n",
            "Requirement already satisfied: farama-notifications>=0.0.1 in /usr/local/lib/python3.10/dist-packages (from gymnasium>=0.27.0->shimmy>=0.2.1) (0.0.4)\n",
            "Installing collected packages: shimmy\n",
            "Successfully installed shimmy-1.3.0\n"
          ]
        }
      ]
    },
    {
      "cell_type": "code",
      "source": [],
      "metadata": {
        "id": "qWexuER8e-uG"
      },
      "execution_count": null,
      "outputs": []
    },
    {
      "cell_type": "code",
      "execution_count": null,
      "metadata": {
        "id": "JEOwdQwjYDKT"
      },
      "outputs": [],
      "source": [
        "from nsepythonserver import *\n",
        "import matplotlib.pyplot as plt\n",
        "import seaborn as sns\n",
        "import pandas as pd\n",
        "from sklearn.model_selection import train_test_split\n",
        "import numpy as np\n",
        "from stable_baselines3 import DQN\n",
        "from stable_baselines3.common.env_checker import check_env\n",
        "from stable_baselines3.common.callbacks import EvalCallback, StopTrainingOnRewardThreshold\n",
        "import gym\n",
        "from sklearn.preprocessing import LabelEncoder, MinMaxScaler\n",
        "from stable_baselines3.common.callbacks import EvalCallback\n",
        "from stable_baselines3.common.env_util import make_vec_env\n",
        "from sklearn.model_selection import TimeSeriesSplit\n",
        "from scipy.stats import mstats\n",
        "from google.colab import drive"
      ]
    },
    {
      "cell_type": "markdown",
      "source": [
        "# 2. Data Gathering and Preprocessing"
      ],
      "metadata": {
        "id": "cjBqGjBhJX3k"
      }
    },
    {
      "cell_type": "code",
      "source": [
        "symbol = \"SBIN\"\n",
        "series = \"EQ\"\n",
        "start_date = \"01-01-2000\"\n",
        "end_date =\"30-06-2023\"\n",
        "equity = equity_history(symbol,series,start_date,end_date)"
      ],
      "metadata": {
        "id": "pmRnLIagbW79"
      },
      "execution_count": null,
      "outputs": []
    },
    {
      "cell_type": "code",
      "source": [
        "# Convert 'CH_TIMESTAMP' to datetime\n",
        "equity['CH_TIMESTAMP'] = pd.to_datetime(equity['CH_TIMESTAMP'])"
      ],
      "metadata": {
        "id": "1vI0qE8cbXCb",
        "colab": {
          "base_uri": "https://localhost:8080/"
        },
        "outputId": "e5eefc4c-6283-43df-9671-61d756a7c356"
      },
      "execution_count": null,
      "outputs": [
        {
          "output_type": "stream",
          "name": "stderr",
          "text": [
            "/usr/local/lib/python3.10/dist-packages/ipykernel/ipkernel.py:283: DeprecationWarning: `should_run_async` will not call `transform_cell` automatically in the future. Please pass the result to `transformed_cell` argument and any exception that happen during thetransform in `preprocessing_exc_tuple` in IPython 7.17 and above.\n",
            "  and should_run_async(code)\n"
          ]
        }
      ]
    },
    {
      "cell_type": "code",
      "source": [
        "# Load the dataset\n",
        "df = equity"
      ],
      "metadata": {
        "id": "kYyBT0Gn17_O",
        "colab": {
          "base_uri": "https://localhost:8080/"
        },
        "outputId": "b83bbdca-8ae5-48e1-ccb7-900457b9990e"
      },
      "execution_count": null,
      "outputs": [
        {
          "output_type": "stream",
          "name": "stderr",
          "text": [
            "/usr/local/lib/python3.10/dist-packages/ipykernel/ipkernel.py:283: DeprecationWarning: `should_run_async` will not call `transform_cell` automatically in the future. Please pass the result to `transformed_cell` argument and any exception that happen during thetransform in `preprocessing_exc_tuple` in IPython 7.17 and above.\n",
            "  and should_run_async(code)\n"
          ]
        }
      ]
    },
    {
      "cell_type": "code",
      "source": [
        "# Sort the DataFrame by 'CH_TIMESTAMP'\n",
        "df = df.sort_values(by='CH_TIMESTAMP')"
      ],
      "metadata": {
        "id": "_m3i_2_p18GU"
      },
      "execution_count": null,
      "outputs": []
    },
    {
      "cell_type": "code",
      "source": [
        "# Load your dataset\n",
        "df = equity\n",
        "\n",
        "# Existing column names from your summary (adjust as needed)\n",
        "old_columns = [\n",
        "    '_id', 'CH_SYMBOL', 'CH_SERIES', 'CH_MARKET_TYPE', 'CH_TRADE_HIGH_PRICE',\n",
        "    'CH_TRADE_LOW_PRICE', 'CH_OPENING_PRICE', 'CH_CLOSING_PRICE',\n",
        "    'CH_LAST_TRADED_PRICE', 'CH_PREVIOUS_CLS_PRICE', 'CH_TOT_TRADED_QTY',\n",
        "    'CH_TOT_TRADED_VAL', 'CH_52WEEK_HIGH_PRICE', 'CH_52WEEK_LOW_PRICE',\n",
        "    'CH_TOTAL_TRADES', 'CH_ISIN', 'CH_TIMESTAMP', 'TIMESTAMP', 'createdAt',\n",
        "    'updatedAt', '__v', 'SLBMH_TOT_VAL', 'VWAP', 'mTIMESTAMP', 'CA'\n",
        "]\n",
        "\n",
        "# New column names, more descriptive\n",
        "new_columns = [\n",
        "    'Record_ID', 'Stock_Symbol', 'Series', 'Market_Type', 'High_Trade_Price',\n",
        "    'Low_Trade_Price', 'Opening_Price', 'Closing_Price',\n",
        "    'Last_Traded_Price', 'Previous_Close_Price', 'Total_Traded_Quantity',\n",
        "    'Total_Traded_Value', '52Week_High_Price', '52Week_Low_Price',\n",
        "    'Total_Number_of_Trades', 'ISIN', 'Trade_Timestamp', 'Original_Timestamp',\n",
        "    'Creation_Date', 'Update_Date', 'Version', 'SLBM_Total_Value', 'Volume_Weighted_Average_Price',\n",
        "    'Modified_Timestamp', 'Corporate_Action'\n",
        "]\n",
        "\n",
        "# Rename the columns\n",
        "df.columns = new_columns"
      ],
      "metadata": {
        "id": "VqQ1v8uM3Qgn"
      },
      "execution_count": null,
      "outputs": []
    },
    {
      "cell_type": "code",
      "source": [
        "equity = df"
      ],
      "metadata": {
        "id": "qlGcVYavKiOV"
      },
      "execution_count": null,
      "outputs": []
    },
    {
      "cell_type": "code",
      "source": [
        "# For Call Option\n",
        "def derivative_history(symbol, start_date, end_date, instrumentType, expiry_date, strikePrice, optionTypes):\n",
        "    dates = pd.date_range(start=start_date, end=end_date, freq='B')\n",
        "    data = []\n",
        "\n",
        "    for optionType in optionTypes:\n",
        "        # Creating an ID column with a sequence starting from 1 for each option type\n",
        "        ids = range(1, len(dates) + 1)\n",
        "\n",
        "        data.extend([{\n",
        "            'ID': i + len(dates) * (optionTypes.index(optionType)),  # Unique ID across option types\n",
        "            'Date': date,\n",
        "            'Symbol': symbol,\n",
        "            'Expiry Date': expiry_date,\n",
        "            'Strike Price': strikePrice,\n",
        "            'Option Type': optionType,\n",
        "            'Open': 100 + i,\n",
        "            'High': 105 + i,\n",
        "            'Low': 95 + i,\n",
        "            'Close': 102 + i,\n",
        "            'Bid': 99 + i,\n",
        "            'Ask': 103 + i,\n",
        "            'Last Traded': 101 + i,\n",
        "            'Volume': 1000 - 100 * i\n",
        "        } for i, date in enumerate(dates)])\n",
        "\n",
        "    return pd.DataFrame(data)\n",
        "\n",
        "# Example usage with Call options\n",
        "symbol = \"SBIN\"\n",
        "start_date = \"01-01-2000\"\n",
        "end_date = \"30-06-2023\"\n",
        "instrumentType = \"options\"\n",
        "expiry_date = \"30-06-2023\"\n",
        "strikePrice = 300\n",
        "optionTypes = [\"CE\"]  # For Call options\n",
        "\n",
        "# Fetch the data\n",
        "SBIN_options_data_CE = derivative_history(symbol, start_date, end_date, instrumentType, expiry_date, strikePrice, optionTypes)"
      ],
      "metadata": {
        "id": "mMk48r5YKiQs"
      },
      "execution_count": null,
      "outputs": []
    },
    {
      "cell_type": "code",
      "source": [
        "# for PUT option\n",
        "def derivative_history(symbol, start_date, end_date, instrumentType, expiry_date, strikePrice, optionTypes):\n",
        "    dates = pd.date_range(start=start_date, end=end_date, freq='B')\n",
        "    data = []\n",
        "\n",
        "    for optionType in optionTypes:\n",
        "        # Creating an ID column with a sequence starting from 1 for each option type\n",
        "        ids = range(1, len(dates) + 1)\n",
        "\n",
        "        data.extend([{\n",
        "            'ID': i + len(dates) * (optionTypes.index(optionType)),  # Unique ID across option types\n",
        "            'Date': date,\n",
        "            'Symbol': symbol,\n",
        "            'Expiry Date': expiry_date,\n",
        "            'Strike Price': strikePrice,\n",
        "            'Option Type': optionType,\n",
        "            'Open': 100 + i,\n",
        "            'High': 105 + i,\n",
        "            'Low': 95 + i,\n",
        "            'Close': 102 + i,\n",
        "            'Bid': 99 + i,\n",
        "            'Ask': 103 + i,\n",
        "            'Last Traded': 101 + i,\n",
        "            'Volume': 1000 - 100 * i\n",
        "        } for i, date in enumerate(dates)])\n",
        "\n",
        "    return pd.DataFrame(data)\n",
        "\n",
        "# Example usage with Put options\n",
        "symbol = \"SBIN\"\n",
        "start_date = \"01-01-2000\"\n",
        "end_date = \"30-06-2023\"\n",
        "instrumentType = \"options\"\n",
        "expiry_date = \"30-06-2023\"\n",
        "strikePrice = 300\n",
        "optionTypes = [\"PE\"]  # For Put options\n",
        "\n",
        "# Fetch the data\n",
        "SBIN_options_data_PE = derivative_history(symbol, start_date, end_date, instrumentType, expiry_date, strikePrice, optionTypes)"
      ],
      "metadata": {
        "id": "33c-w2FYKiVD"
      },
      "execution_count": null,
      "outputs": []
    },
    {
      "cell_type": "code",
      "source": [],
      "metadata": {
        "id": "9J-1ttigKidC"
      },
      "execution_count": null,
      "outputs": []
    },
    {
      "cell_type": "code",
      "source": [
        "#Merge the 3 dataset, for our convenience\n",
        "# Load the datasets\n",
        "equity_df = equity\n",
        "options_pe_df = SBIN_options_data_PE\n",
        "options_ce_df = SBIN_options_data_CE\n",
        "\n",
        "# Set the date columns as the index for each DataFrame\n",
        "\n",
        "equity_df.set_index('Trade_Timestamp', inplace=True)\n",
        "options_pe_df.set_index('Date', inplace=True)\n",
        "options_ce_df.set_index('Date', inplace=True)\n",
        "\n",
        "# Merge the DataFrames on their index (date)\n",
        "merged_df = equity_df.join(options_pe_df, how='outer', rsuffix='_PE').join(options_ce_df, how='outer', rsuffix='_CE')\n",
        "\n",
        "# Reset index to turn it back into a column\n",
        "merged_df.reset_index(inplace=True)\n",
        "\n",
        "# Rename the index to 'Date'\n",
        "merged_df.rename(columns={'index': 'Date'}, inplace=True)\n"
      ],
      "metadata": {
        "id": "TgWOmH6OKigY"
      },
      "execution_count": null,
      "outputs": []
    },
    {
      "cell_type": "code",
      "source": [
        "# Display the head of the merged DataFrame to confirm the merge\n",
        "print(merged_df.head())"
      ],
      "metadata": {
        "id": "wxsR4sW8YRxF",
        "colab": {
          "base_uri": "https://localhost:8080/"
        },
        "outputId": "38adaf3f-6b72-4ec5-bdb5-6ee81f7e6c19"
      },
      "execution_count": null,
      "outputs": [
        {
          "output_type": "stream",
          "name": "stdout",
          "text": [
            "        Date                 Record_ID Stock_Symbol Series Market_Type  \\\n",
            "0 2000-01-03  641f25af2c03d7000704d473         SBIN     EQ           N   \n",
            "1 2000-01-04  641f2838353f0e0007d524ec         SBIN     EQ           N   \n",
            "2 2000-01-05  641f26742405c50007999a2e         SBIN     EQ           N   \n",
            "3 2000-01-06  641f25aa2c03d7000704cfba         SBIN     EQ           N   \n",
            "4 2000-01-07  641f25084708d5000727009c         SBIN     EQ           N   \n",
            "\n",
            "   High_Trade_Price  Low_Trade_Price  Opening_Price  Closing_Price  \\\n",
            "0            243.65           234.25         236.00         243.65   \n",
            "1            262.00           238.85         243.65         259.10   \n",
            "2            264.70           245.00         249.00         248.45   \n",
            "3            268.00           252.00         252.00         261.00   \n",
            "4            279.90           255.00         261.50         273.30   \n",
            "\n",
            "   Last_Traded_Price  ...  Strike Price_CE  Option Type_CE  Open_CE  High_CE  \\\n",
            "0             243.65  ...            300.0              CE    100.0    105.0   \n",
            "1             258.00  ...            300.0              CE    101.0    106.0   \n",
            "2             249.05  ...            300.0              CE    102.0    107.0   \n",
            "3             260.50  ...            300.0              CE    103.0    108.0   \n",
            "4             279.00  ...            300.0              CE    104.0    109.0   \n",
            "\n",
            "   Low_CE  Close_CE Bid_CE Ask_CE Last Traded_CE Volume_CE  \n",
            "0    95.0     102.0   99.0  103.0          101.0    1000.0  \n",
            "1    96.0     103.0  100.0  104.0          102.0     900.0  \n",
            "2    97.0     104.0  101.0  105.0          103.0     800.0  \n",
            "3    98.0     105.0  102.0  106.0          104.0     700.0  \n",
            "4    99.0     106.0  103.0  107.0          105.0     600.0  \n",
            "\n",
            "[5 rows x 51 columns]\n"
          ]
        }
      ]
    },
    {
      "cell_type": "code",
      "source": [
        "dataset = merged_df"
      ],
      "metadata": {
        "id": "3sOf7VM7WSEQ"
      },
      "execution_count": null,
      "outputs": []
    },
    {
      "cell_type": "markdown",
      "source": [
        "# Data Cleaning:\n",
        "Handle missing values, outliers, etc\n"
      ],
      "metadata": {
        "id": "pNDqJPXSJt5Z"
      }
    },
    {
      "cell_type": "code",
      "source": [
        "# Delete all the useless columns\n",
        "columns_to_drop = ['Record_ID', 'Stock_Symbol', 'Series', 'Market_Type', '52Week_High_Price','52Week_Low_Price', 'ISIN', 'Original_Timestamp', 'Creation_Date', 'Update_Date', 'Version', 'SLBM_Total_Value', 'Modified_Timestamp', 'Corporate_Action', 'ID', 'Expiry Date_CE','Expiry Date']\n",
        "data = dataset.drop(columns_to_drop, axis=1)"
      ],
      "metadata": {
        "id": "BxfXmdTMWSGI"
      },
      "execution_count": null,
      "outputs": []
    },
    {
      "cell_type": "code",
      "source": [
        "data = data.drop('Total_Number_of_Trades', axis =1)"
      ],
      "metadata": {
        "id": "AL5TN2c-i7X1"
      },
      "execution_count": null,
      "outputs": []
    },
    {
      "cell_type": "code",
      "source": [
        "data = data.drop('Total_Traded_Value', axis=1)"
      ],
      "metadata": {
        "id": "9JcR-RvEj5kQ"
      },
      "execution_count": null,
      "outputs": []
    },
    {
      "cell_type": "code",
      "source": [
        "columns_to_drop = [\n",
        "    'Volume_CE', 'Symbol_CE', 'Ask_CE', 'Bid_CE', 'Close_CE',\n",
        "    'Low_CE', 'High_CE', 'Open_CE','Strike Price_CE',\n",
        "    'Symbol'  # Assuming 'Symbol' is also to be dropped as it appears crossed out\n",
        "]\n",
        "data = data.drop(columns_to_drop, axis=1)"
      ],
      "metadata": {
        "id": "COrfl-fGWSID"
      },
      "execution_count": null,
      "outputs": []
    },
    {
      "cell_type": "code",
      "source": [
        "data = data.drop('Volume_Weighted_Average_Price', axis=1)"
      ],
      "metadata": {
        "id": "0W0Ch6Ayefc3"
      },
      "execution_count": null,
      "outputs": []
    },
    {
      "cell_type": "code",
      "source": [
        "data = data.drop(['ID_CE', 'Last Traded_CE'], axis =1)"
      ],
      "metadata": {
        "id": "fra-16ySlkxA",
        "colab": {
          "base_uri": "https://localhost:8080/"
        },
        "outputId": "813672b8-d1f5-4aa9-c35a-7503a570c684"
      },
      "execution_count": null,
      "outputs": [
        {
          "output_type": "stream",
          "name": "stderr",
          "text": [
            "/usr/local/lib/python3.10/dist-packages/ipykernel/ipkernel.py:283: DeprecationWarning: `should_run_async` will not call `transform_cell` automatically in the future. Please pass the result to `transformed_cell` argument and any exception that happen during thetransform in `preprocessing_exc_tuple` in IPython 7.17 and above.\n",
            "  and should_run_async(code)\n"
          ]
        }
      ]
    },
    {
      "cell_type": "code",
      "source": [
        "data = data.rename(columns={'Total_Traded_Quantity': 'Volume'})"
      ],
      "metadata": {
        "id": "e643MIkRfgNP"
      },
      "execution_count": null,
      "outputs": []
    },
    {
      "cell_type": "code",
      "source": [
        "data = data.dropna()  # Drops all rows with any NaN values\n",
        "data = data.dropna(axis=1)  # Drops all columns with any NaN values"
      ],
      "metadata": {
        "id": "PqQwW5XTfgrY"
      },
      "execution_count": null,
      "outputs": []
    },
    {
      "cell_type": "code",
      "source": [
        "print(data)"
      ],
      "metadata": {
        "colab": {
          "base_uri": "https://localhost:8080/"
        },
        "id": "-ul7X5UcYOEc",
        "outputId": "55341333-8195-4813-b820-8dc76febc108"
      },
      "execution_count": null,
      "outputs": [
        {
          "output_type": "stream",
          "name": "stdout",
          "text": [
            "           Date  High_Trade_Price  Low_Trade_Price  Opening_Price  \\\n",
            "0    2000-01-03            243.65           234.25         236.00   \n",
            "1    2000-01-04            262.00           238.85         243.65   \n",
            "2    2000-01-05            264.70           245.00         249.00   \n",
            "3    2000-01-06            268.00           252.00         252.00   \n",
            "4    2000-01-07            279.90           255.00         261.50   \n",
            "...         ...               ...              ...            ...   \n",
            "6308 2023-06-23            562.10           553.80         562.00   \n",
            "6309 2023-06-26            558.50           554.50         556.00   \n",
            "6310 2023-06-27            567.95           555.65         558.25   \n",
            "6311 2023-06-28            574.00           568.55         572.25   \n",
            "6313 2023-06-30            574.00           570.20         574.00   \n",
            "\n",
            "      Closing_Price  Last_Traded_Price  Previous_Close_Price      Volume  \\\n",
            "0            243.65             243.65                225.60   2373228.0   \n",
            "1            259.10             258.00                243.65   4495741.0   \n",
            "2            248.45             249.05                259.10   3434058.0   \n",
            "3            261.00             260.50                248.45   6658801.0   \n",
            "4            273.30             279.00                261.00   7873985.0   \n",
            "...             ...                ...                   ...         ...   \n",
            "6308         554.60             555.45                562.95  12215712.0   \n",
            "6309         557.05             557.35                554.60   8360264.0   \n",
            "6310         566.10             567.30                557.05  10694768.0   \n",
            "6311         569.80             571.00                566.10  18028934.0   \n",
            "6313         572.85             572.35                569.80   8718232.0   \n",
            "\n",
            "      Strike Price Option Type    Open    High     Low   Close     Bid  \\\n",
            "0            300.0          PE   100.0   105.0    95.0   102.0    99.0   \n",
            "1            300.0          PE   101.0   106.0    96.0   103.0   100.0   \n",
            "2            300.0          PE   102.0   107.0    97.0   104.0   101.0   \n",
            "3            300.0          PE   103.0   108.0    98.0   105.0   102.0   \n",
            "4            300.0          PE   104.0   109.0    99.0   106.0   103.0   \n",
            "...            ...         ...     ...     ...     ...     ...     ...   \n",
            "6308         300.0          PE  6224.0  6229.0  6219.0  6226.0  6223.0   \n",
            "6309         300.0          PE  6225.0  6230.0  6220.0  6227.0  6224.0   \n",
            "6310         300.0          PE  6226.0  6231.0  6221.0  6228.0  6225.0   \n",
            "6311         300.0          PE  6227.0  6232.0  6222.0  6229.0  6226.0   \n",
            "6313         300.0          PE  6229.0  6234.0  6224.0  6231.0  6228.0   \n",
            "\n",
            "         Ask  Last Traded    Volume Option Type_CE  \n",
            "0      103.0        101.0    1000.0             CE  \n",
            "1      104.0        102.0     900.0             CE  \n",
            "2      105.0        103.0     800.0             CE  \n",
            "3      106.0        104.0     700.0             CE  \n",
            "4      107.0        105.0     600.0             CE  \n",
            "...      ...          ...       ...            ...  \n",
            "6308  6227.0       6225.0 -611400.0             CE  \n",
            "6309  6228.0       6226.0 -611500.0             CE  \n",
            "6310  6229.0       6227.0 -611600.0             CE  \n",
            "6311  6230.0       6228.0 -611700.0             CE  \n",
            "6313  6232.0       6230.0 -611900.0             CE  \n",
            "\n",
            "[5978 rows x 19 columns]\n"
          ]
        }
      ]
    },
    {
      "cell_type": "code",
      "source": [
        "# Drop duplicate rows\n",
        "data = data.drop_duplicates()"
      ],
      "metadata": {
        "id": "vIaUNCGlnz_W"
      },
      "execution_count": null,
      "outputs": []
    },
    {
      "cell_type": "markdown",
      "source": [
        "# Imputing Missing Values\n",
        "### For financial time series, forward filling or using previous valid observations can be a practical approach to impute missing values, as it preserves the trends and cycles in the data."
      ],
      "metadata": {
        "id": "yXyDPMPVKWX5"
      }
    },
    {
      "cell_type": "code",
      "source": [
        "# Display initial data information\n",
        "print(\"Initial Data Information:\")\n",
        "print(data.info())\n",
        "print(\"\\nInitial Data Head:\")\n",
        "print(data.head())"
      ],
      "metadata": {
        "id": "pOhquSSxoGJL",
        "colab": {
          "base_uri": "https://localhost:8080/"
        },
        "outputId": "8b4238a7-e5a7-439f-e51d-6d195f241670"
      },
      "execution_count": null,
      "outputs": [
        {
          "output_type": "stream",
          "name": "stdout",
          "text": [
            "Initial Data Information:\n",
            "<class 'pandas.core.frame.DataFrame'>\n",
            "Index: 5818 entries, 0 to 6313\n",
            "Data columns (total 19 columns):\n",
            " #   Column                Non-Null Count  Dtype         \n",
            "---  ------                --------------  -----         \n",
            " 0   Date                  5818 non-null   datetime64[ns]\n",
            " 1   High_Trade_Price      5818 non-null   float64       \n",
            " 2   Low_Trade_Price       5818 non-null   float64       \n",
            " 3   Opening_Price         5818 non-null   float64       \n",
            " 4   Closing_Price         5818 non-null   float64       \n",
            " 5   Last_Traded_Price     5818 non-null   float64       \n",
            " 6   Previous_Close_Price  5818 non-null   float64       \n",
            " 7   Volume                5818 non-null   float64       \n",
            " 8   Strike Price          5818 non-null   float64       \n",
            " 9   Option Type           5818 non-null   object        \n",
            " 10  Open                  5818 non-null   float64       \n",
            " 11  High                  5818 non-null   float64       \n",
            " 12  Low                   5818 non-null   float64       \n",
            " 13  Close                 5818 non-null   float64       \n",
            " 14  Bid                   5818 non-null   float64       \n",
            " 15  Ask                   5818 non-null   float64       \n",
            " 16  Last Traded           5818 non-null   float64       \n",
            " 17  Volume                5818 non-null   float64       \n",
            " 18  Option Type_CE        5818 non-null   object        \n",
            "dtypes: datetime64[ns](1), float64(16), object(2)\n",
            "memory usage: 909.1+ KB\n",
            "None\n",
            "\n",
            "Initial Data Head:\n",
            "        Date  High_Trade_Price  Low_Trade_Price  Opening_Price  Closing_Price  \\\n",
            "0 2000-01-03            243.65           234.25         236.00         243.65   \n",
            "1 2000-01-04            262.00           238.85         243.65         259.10   \n",
            "2 2000-01-05            264.70           245.00         249.00         248.45   \n",
            "3 2000-01-06            268.00           252.00         252.00         261.00   \n",
            "4 2000-01-07            279.90           255.00         261.50         273.30   \n",
            "\n",
            "   Last_Traded_Price  Previous_Close_Price     Volume  Strike Price  \\\n",
            "0             243.65                225.60  2373228.0         300.0   \n",
            "1             258.00                243.65  4495741.0         300.0   \n",
            "2             249.05                259.10  3434058.0         300.0   \n",
            "3             260.50                248.45  6658801.0         300.0   \n",
            "4             279.00                261.00  7873985.0         300.0   \n",
            "\n",
            "  Option Type   Open   High   Low  Close    Bid    Ask  Last Traded  Volume  \\\n",
            "0          PE  100.0  105.0  95.0  102.0   99.0  103.0        101.0  1000.0   \n",
            "1          PE  101.0  106.0  96.0  103.0  100.0  104.0        102.0   900.0   \n",
            "2          PE  102.0  107.0  97.0  104.0  101.0  105.0        103.0   800.0   \n",
            "3          PE  103.0  108.0  98.0  105.0  102.0  106.0        104.0   700.0   \n",
            "4          PE  104.0  109.0  99.0  106.0  103.0  107.0        105.0   600.0   \n",
            "\n",
            "  Option Type_CE  \n",
            "0             CE  \n",
            "1             CE  \n",
            "2             CE  \n",
            "3             CE  \n",
            "4             CE  \n"
          ]
        }
      ]
    },
    {
      "cell_type": "markdown",
      "source": [
        "### Handling Missing Values"
      ],
      "metadata": {
        "id": "0Ti5734WLzmf"
      }
    },
    {
      "cell_type": "code",
      "source": [
        "# Forward fill to handle missing values, assuming time series data\n",
        "data.fillna(method='ffill', inplace=True)"
      ],
      "metadata": {
        "id": "YORZJIdgoGNQ"
      },
      "execution_count": null,
      "outputs": []
    },
    {
      "cell_type": "code",
      "source": [],
      "metadata": {
        "id": "PLiL-oTQT7Ke"
      },
      "execution_count": null,
      "outputs": []
    },
    {
      "cell_type": "markdown",
      "source": [
        "### Handling Outliers using the Interquartile Range (IQR) Method\n"
      ],
      "metadata": {
        "id": "ybgDY3ZpL7BP"
      }
    },
    {
      "cell_type": "code",
      "source": [
        "# Compute IQR for 'Close' column\n",
        "Q1 = data['Closing_Price'].quantile(0.25)\n",
        "Q3 = data['Closing_Price'].quantile(0.75)\n",
        "IQR = Q3 - Q1"
      ],
      "metadata": {
        "id": "F_06CdGdoGPr"
      },
      "execution_count": null,
      "outputs": []
    },
    {
      "cell_type": "code",
      "source": [
        "# Define bounds for the outliers\n",
        "lower_bound = Q1 - 1.5 * IQR\n",
        "upper_bound = Q3 + 1.5 * IQR"
      ],
      "metadata": {
        "id": "nu3Sh2kSoGR0",
        "colab": {
          "base_uri": "https://localhost:8080/"
        },
        "outputId": "50a81843-7713-446c-84af-23aed5e1a45d"
      },
      "execution_count": null,
      "outputs": [
        {
          "output_type": "stream",
          "name": "stderr",
          "text": [
            "/usr/local/lib/python3.10/dist-packages/ipykernel/ipkernel.py:283: DeprecationWarning: `should_run_async` will not call `transform_cell` automatically in the future. Please pass the result to `transformed_cell` argument and any exception that happen during thetransform in `preprocessing_exc_tuple` in IPython 7.17 and above.\n",
            "  and should_run_async(code)\n"
          ]
        }
      ]
    },
    {
      "cell_type": "code",
      "source": [],
      "metadata": {
        "id": "Mx6a8WFAUI0w"
      },
      "execution_count": null,
      "outputs": []
    },
    {
      "cell_type": "code",
      "source": [
        "# Filtering out the outliers\n",
        "data = data[(data['Closing_Price'] >= lower_bound) & (data['Closing_Price'] <= upper_bound)]"
      ],
      "metadata": {
        "id": "YeHIOPSyoGT4"
      },
      "execution_count": null,
      "outputs": []
    },
    {
      "cell_type": "markdown",
      "source": [
        "### Verifying Data Integrity"
      ],
      "metadata": {
        "id": "RxbHvPqwMIdh"
      }
    },
    {
      "cell_type": "code",
      "source": [
        "# Check for any remaining duplicates\n",
        "print(\"Number of duplicate rows:\", data.duplicated().sum())"
      ],
      "metadata": {
        "id": "-UFXcvP_oGXy",
        "colab": {
          "base_uri": "https://localhost:8080/"
        },
        "outputId": "e1759f4c-821d-4dd9-de25-be15553f594a"
      },
      "execution_count": null,
      "outputs": [
        {
          "output_type": "stream",
          "name": "stdout",
          "text": [
            "Number of duplicate rows: 0\n"
          ]
        }
      ]
    },
    {
      "cell_type": "code",
      "source": [
        "# Validate final data types and missing values status\n",
        "print(\"\\nFinal Data Information:\")\n",
        "print(data.info())"
      ],
      "metadata": {
        "id": "T9Xqcs3loGbY",
        "colab": {
          "base_uri": "https://localhost:8080/"
        },
        "outputId": "f695fa3e-3392-423b-80c0-8c6f2beba49d"
      },
      "execution_count": null,
      "outputs": [
        {
          "output_type": "stream",
          "name": "stdout",
          "text": [
            "\n",
            "Final Data Information:\n",
            "<class 'pandas.core.frame.DataFrame'>\n",
            "Index: 5818 entries, 0 to 6313\n",
            "Data columns (total 19 columns):\n",
            " #   Column                Non-Null Count  Dtype         \n",
            "---  ------                --------------  -----         \n",
            " 0   Date                  5818 non-null   datetime64[ns]\n",
            " 1   High_Trade_Price      5818 non-null   float64       \n",
            " 2   Low_Trade_Price       5818 non-null   float64       \n",
            " 3   Opening_Price         5818 non-null   float64       \n",
            " 4   Closing_Price         5818 non-null   float64       \n",
            " 5   Last_Traded_Price     5818 non-null   float64       \n",
            " 6   Previous_Close_Price  5818 non-null   float64       \n",
            " 7   Volume                5818 non-null   float64       \n",
            " 8   Strike Price          5818 non-null   float64       \n",
            " 9   Option Type           5818 non-null   object        \n",
            " 10  Open                  5818 non-null   float64       \n",
            " 11  High                  5818 non-null   float64       \n",
            " 12  Low                   5818 non-null   float64       \n",
            " 13  Close                 5818 non-null   float64       \n",
            " 14  Bid                   5818 non-null   float64       \n",
            " 15  Ask                   5818 non-null   float64       \n",
            " 16  Last Traded           5818 non-null   float64       \n",
            " 17  Volume                5818 non-null   float64       \n",
            " 18  Option Type_CE        5818 non-null   object        \n",
            "dtypes: datetime64[ns](1), float64(16), object(2)\n",
            "memory usage: 909.1+ KB\n",
            "None\n"
          ]
        }
      ]
    },
    {
      "cell_type": "markdown",
      "source": [
        "# Feature Engineering:"
      ],
      "metadata": {
        "id": "SpDzIV2-Mw7W"
      }
    },
    {
      "cell_type": "code",
      "source": [
        "# Convert 'Date' to datetime format without setting it as index\n",
        "data['Date'] = pd.to_datetime(data['Date'])"
      ],
      "metadata": {
        "id": "J2JTi61HMy78"
      },
      "execution_count": null,
      "outputs": []
    },
    {
      "cell_type": "markdown",
      "source": [
        "#1. RSI (Relative Strength Index)\n",
        "Measures the speed and change of price movements.\n",
        "RSI above 70 is considered overbought, while below 30 is considered oversold."
      ],
      "metadata": {
        "id": "zKqmCcI1NN_e"
      }
    },
    {
      "cell_type": "code",
      "source": [
        "# Calculate RSI\n",
        "delta = data['Closing_Price'].diff()\n",
        "gain = (delta.where(delta > 0, 0)).fillna(0)\n",
        "loss = (-delta.where(delta < 0, 0)).fillna(0)\n",
        "avg_gain = gain.rolling(window=14).mean()\n",
        "avg_loss = loss.rolling(window=14).mean()\n",
        "rs = avg_gain / avg_loss\n",
        "data['RSI'] = 100 - (100 / (1 + rs))"
      ],
      "metadata": {
        "id": "g3YXVCoKMzAt"
      },
      "execution_count": null,
      "outputs": []
    },
    {
      "cell_type": "code",
      "source": [
        "print(data['RSI'])"
      ],
      "metadata": {
        "colab": {
          "base_uri": "https://localhost:8080/"
        },
        "id": "ky87kso4MzDY",
        "outputId": "e2c113b7-8e60-4a6c-95a5-221c5f293921"
      },
      "execution_count": null,
      "outputs": [
        {
          "output_type": "stream",
          "name": "stdout",
          "text": [
            "0             NaN\n",
            "1             NaN\n",
            "2             NaN\n",
            "3             NaN\n",
            "4             NaN\n",
            "          ...    \n",
            "6308    17.465070\n",
            "6309    22.090730\n",
            "6310    29.338104\n",
            "6311    34.125637\n",
            "6313    44.391179\n",
            "Name: RSI, Length: 5818, dtype: float64\n"
          ]
        },
        {
          "output_type": "stream",
          "name": "stderr",
          "text": [
            "/usr/local/lib/python3.10/dist-packages/ipykernel/ipkernel.py:283: DeprecationWarning: `should_run_async` will not call `transform_cell` automatically in the future. Please pass the result to `transformed_cell` argument and any exception that happen during thetransform in `preprocessing_exc_tuple` in IPython 7.17 and above.\n",
            "  and should_run_async(code)\n"
          ]
        }
      ]
    },
    {
      "cell_type": "markdown",
      "source": [
        "The NaN values for RSI are due to the fact that you need at least 14 periods (as per the typical setting) to calculate the average gains and losses. The RSI starts giving actual values only after the 14th period in your data."
      ],
      "metadata": {
        "id": "dnfQ9sDfNXFu"
      }
    },
    {
      "cell_type": "markdown",
      "source": [
        "# 2. MACD (Moving Average Convergence Divergence)\n",
        "Shows the relationship between two moving averages of a security's price.\n",
        "The MACD is calculated by subtracting the 26-period Exponential Moving Average (EMA) from the 12-period EMA."
      ],
      "metadata": {
        "id": "eW9n2fJhNqxU"
      }
    },
    {
      "cell_type": "code",
      "source": [
        "# Calculate MACD\n",
        "exp1 = data['Closing_Price'].ewm(span=12, adjust=False).mean()\n",
        "exp2 = data['Closing_Price'].ewm(span=26, adjust=False).mean()\n",
        "data['MACD'] = exp1 - exp2\n",
        "data['Signal_Line'] = data['MACD'].ewm(span=9, adjust=False).mean()"
      ],
      "metadata": {
        "id": "kUux3cEOMzHE"
      },
      "execution_count": null,
      "outputs": []
    },
    {
      "cell_type": "code",
      "source": [
        "print(data['Signal_Line'])"
      ],
      "metadata": {
        "colab": {
          "base_uri": "https://localhost:8080/"
        },
        "id": "pOPDvaUbMzI1",
        "outputId": "599728ea-d80b-4392-932a-ea378f34578a"
      },
      "execution_count": null,
      "outputs": [
        {
          "output_type": "stream",
          "name": "stdout",
          "text": [
            "0       0.000000\n",
            "1       0.246496\n",
            "2       0.464092\n",
            "3       0.851338\n",
            "4       1.518917\n",
            "          ...   \n",
            "6308   -0.181016\n",
            "6309   -0.996738\n",
            "6310   -1.609510\n",
            "6311   -2.000255\n",
            "6313   -2.178134\n",
            "Name: Signal_Line, Length: 5818, dtype: float64\n"
          ]
        },
        {
          "output_type": "stream",
          "name": "stderr",
          "text": [
            "/usr/local/lib/python3.10/dist-packages/ipykernel/ipkernel.py:283: DeprecationWarning: `should_run_async` will not call `transform_cell` automatically in the future. Please pass the result to `transformed_cell` argument and any exception that happen during thetransform in `preprocessing_exc_tuple` in IPython 7.17 and above.\n",
            "  and should_run_async(code)\n"
          ]
        }
      ]
    },
    {
      "cell_type": "markdown",
      "source": [
        "MACD is calculated using exponential moving averages (EMAs), which start from the first data point but don't stabilize immediately. Similarly, the Signal Line, which is an EMA of the MACD, also begins with NaN values until there are enough data points to compute a stable average."
      ],
      "metadata": {
        "id": "8UidMl5CN4e0"
      }
    },
    {
      "cell_type": "markdown",
      "source": [
        "# 3. Bollinger Bands\n",
        "A volatility indicator featuring upper and lower bands around the price which expands or contract based on volatility."
      ],
      "metadata": {
        "id": "27d1BrY_OA_V"
      }
    },
    {
      "cell_type": "code",
      "source": [
        "# Calculate Bollinger Bands\n",
        "data['Middle_BB'] = data['Closing_Price'].rolling(window=20).mean()\n",
        "data['Upper_BB'] = data['Middle_BB'] + 2 * data['Closing_Price'].rolling(window=20).std()\n",
        "data['Lower_BB'] = data['Middle_BB'] - 2 * data['Closing_Price'].rolling(window=20).std()\n"
      ],
      "metadata": {
        "id": "LemfVe6SMzQh"
      },
      "execution_count": null,
      "outputs": []
    },
    {
      "cell_type": "markdown",
      "source": [
        "# 4. Volatility Measures\n",
        "Typically, historical volatility can be calculated using standard deviation."
      ],
      "metadata": {
        "id": "VRhOcgVjOLt0"
      }
    },
    {
      "cell_type": "code",
      "source": [
        "# Calculate Historical Volatility\n",
        "data['Volatility'] = data['Closing_Price'].rolling(window=20).std()"
      ],
      "metadata": {
        "id": "LEBpZv3vODHn"
      },
      "execution_count": null,
      "outputs": []
    },
    {
      "cell_type": "markdown",
      "source": [
        "### Print the head of the dataframe to see the indicators"
      ],
      "metadata": {
        "id": "Gh-C4YnqOa4t"
      }
    },
    {
      "cell_type": "code",
      "source": [
        "print(data[['Close', 'RSI', 'MACD', 'Signal_Line', 'Upper_BB', 'Lower_BB', 'Volatility']].head(50))"
      ],
      "metadata": {
        "colab": {
          "base_uri": "https://localhost:8080/"
        },
        "id": "6Voq1WzMODKB",
        "outputId": "f3eae913-e7dc-4f5d-ca37-e9e82c511bc7"
      },
      "execution_count": null,
      "outputs": [
        {
          "output_type": "stream",
          "name": "stdout",
          "text": [
            "    Close        RSI       MACD  Signal_Line    Upper_BB    Lower_BB  \\\n",
            "0   102.0        NaN   0.000000     0.000000         NaN         NaN   \n",
            "1   103.0        NaN   1.232479     0.246496         NaN         NaN   \n",
            "2   104.0        NaN   1.334478     0.464092         NaN         NaN   \n",
            "3   105.0        NaN   2.400324     0.851338         NaN         NaN   \n",
            "4   106.0        NaN   4.189230     1.518917         NaN         NaN   \n",
            "5   107.0        NaN   5.239921     2.263118         NaN         NaN   \n",
            "6   108.0        NaN   4.284309     2.667356         NaN         NaN   \n",
            "7   109.0        NaN   3.231516     2.780188         NaN         NaN   \n",
            "8   110.0        NaN   2.349908     2.694132         NaN         NaN   \n",
            "9   111.0        NaN   1.209619     2.397229         NaN         NaN   \n",
            "10  112.0        NaN   0.039197     1.925623         NaN         NaN   \n",
            "11  113.0        NaN  -0.834373     1.373624         NaN         NaN   \n",
            "12  114.0        NaN  -0.910994     0.916700         NaN         NaN   \n",
            "13  115.0  47.101802  -1.459219     0.441516         NaN         NaN   \n",
            "14  116.0  46.987366  -1.892054    -0.025198         NaN         NaN   \n",
            "15  117.0  34.057971  -2.939522    -0.608062         NaN         NaN   \n",
            "16  118.0  36.800895  -4.001902    -1.286830         NaN         NaN   \n",
            "18  120.0  31.223372  -4.365854    -1.902635         NaN         NaN   \n",
            "19  121.0  35.941043  -3.137431    -2.149594         NaN         NaN   \n",
            "20  122.0  35.941043  -2.442370    -2.208149  270.503404  219.431596   \n",
            "21  123.0  48.940833  -1.726384    -2.111796  270.646756  219.573244   \n",
            "22  124.0  52.075472  -1.065981    -1.902633  269.242503  219.817497   \n",
            "23  125.0  59.249677   0.365002    -1.449106  270.527202  219.567798   \n",
            "24  126.0  61.148198   1.250644    -0.909156  269.695539  219.889461   \n",
            "25  127.0  57.178527   1.252208    -0.476883  264.555552  222.439448   \n",
            "26  128.0  53.455405   0.832325    -0.215042  259.272625  225.002375   \n",
            "27  129.0  50.903427   0.741166    -0.023800  259.000356  225.019644   \n",
            "28  130.0  57.170543   0.932523     0.167464  259.435308  224.989692   \n",
            "30  131.0  58.062460   1.175523     0.369076  260.050712  224.934288   \n",
            "31  132.0  72.319347   2.668752     0.829011  264.367567  223.357433   \n",
            "32  133.0  65.281431   2.795141     1.222237  265.375855  224.149145   \n",
            "33  134.0  60.597971   2.551200     1.488030  265.792049  225.087951   \n",
            "34  135.0  50.996016   2.331004     1.656625  266.180964  225.304036   \n",
            "35  136.0  47.761194   1.421950     1.609690  266.124609  225.700391   \n",
            "36  137.0  48.592411   0.940818     1.475915  266.089116  226.410884   \n",
            "37  138.0  44.077449  -0.013241     1.178084  265.198621  228.181379   \n",
            "38  139.0  34.443746  -1.003878     0.741692  263.729982  230.570018   \n",
            "39  140.0  42.699244  -1.026697     0.388014  262.481727  233.138273   \n",
            "40  141.0  45.989975  -1.220339     0.066343  262.412671  232.457329   \n",
            "41  142.0  51.989893  -1.003160    -0.147557  262.425073  232.519927   \n",
            "42  143.0  41.024259  -2.153767    -0.548799  263.727348  229.442652   \n",
            "43  144.0  43.491736  -2.436394    -0.926318  263.769497  228.270503   \n",
            "44  145.0  38.599811  -3.443735    -1.429802  263.187289  225.572711   \n",
            "45  146.0  22.710280  -5.613661    -2.266573  266.024191  217.965809   \n",
            "46  147.0  28.716904  -6.938661    -3.200991  267.548211  212.911789   \n",
            "47  148.0  28.513650  -8.264644    -4.213722  269.444187  207.535813   \n",
            "48  149.0  24.532405 -10.489678    -5.468913  272.985457  198.599543   \n",
            "49  150.0  23.777403 -13.114538    -6.998038  276.768691  187.826309   \n",
            "50  151.0  20.241935 -15.699661    -8.738362  279.797356  176.827644   \n",
            "51  152.0  20.414803 -18.028750   -10.596440  278.817670  167.582330   \n",
            "\n",
            "    Volatility  \n",
            "0          NaN  \n",
            "1          NaN  \n",
            "2          NaN  \n",
            "3          NaN  \n",
            "4          NaN  \n",
            "5          NaN  \n",
            "6          NaN  \n",
            "7          NaN  \n",
            "8          NaN  \n",
            "9          NaN  \n",
            "10         NaN  \n",
            "11         NaN  \n",
            "12         NaN  \n",
            "13         NaN  \n",
            "14         NaN  \n",
            "15         NaN  \n",
            "16         NaN  \n",
            "18         NaN  \n",
            "19         NaN  \n",
            "20   12.767952  \n",
            "21   12.768378  \n",
            "22   12.356251  \n",
            "23   12.739851  \n",
            "24   12.451519  \n",
            "25   10.529026  \n",
            "26    8.567562  \n",
            "27    8.495178  \n",
            "28    8.611404  \n",
            "30    8.779106  \n",
            "31   10.252533  \n",
            "32   10.306677  \n",
            "33   10.176024  \n",
            "34   10.219232  \n",
            "35   10.106054  \n",
            "36    9.919558  \n",
            "37    9.254311  \n",
            "38    8.289991  \n",
            "39    7.335864  \n",
            "40    7.488836  \n",
            "41    7.476287  \n",
            "42    8.571174  \n",
            "43    8.874748  \n",
            "44    9.403644  \n",
            "45   12.014595  \n",
            "46   13.659105  \n",
            "47   15.477093  \n",
            "48   18.596479  \n",
            "49   22.235595  \n",
            "50   25.742428  \n",
            "51   27.808835  \n"
          ]
        },
        {
          "output_type": "stream",
          "name": "stderr",
          "text": [
            "/usr/local/lib/python3.10/dist-packages/ipykernel/ipkernel.py:283: DeprecationWarning: `should_run_async` will not call `transform_cell` automatically in the future. Please pass the result to `transformed_cell` argument and any exception that happen during thetransform in `preprocessing_exc_tuple` in IPython 7.17 and above.\n",
            "  and should_run_async(code)\n"
          ]
        }
      ]
    },
    {
      "cell_type": "markdown",
      "source": [
        "# Understanding NaN Values:\n",
        "#1. RSI:\n",
        "The NaN values for RSI are due to the fact that you need at least 14 periods (as per the typical setting) to calculate the average gains and losses. The RSI starts giving actual values only after the 14th period in your data.\n",
        "\n",
        "# 2. MACD and Signal Line:\n",
        "MACD is calculated using exponential moving averages (EMAs), which start from the first data point but don't stabilize immediately. Similarly, the Signal Line, which is an EMA of the MACD, also begins with NaN values until there are enough data points to compute a stable average.\n",
        "\n",
        "# 3. Bollinger Bands and Volatility:\n",
        "Both require a full window of data (20 periods in your example) to compute the first value of the moving average and the standard deviation."
      ],
      "metadata": {
        "id": "4m3mYmNpPlq9"
      }
    },
    {
      "cell_type": "markdown",
      "source": [
        "# Handling NaN Values:\n",
        "### Drop rows with NaN values in the dataframe"
      ],
      "metadata": {
        "id": "S_0v3WSiP6zn"
      }
    },
    {
      "cell_type": "code",
      "source": [
        "cleaned_data = data.dropna()\n",
        "print(cleaned_data[['Close', 'RSI', 'MACD', 'Signal_Line', 'Upper_BB', 'Lower_BB', 'Volatility']])"
      ],
      "metadata": {
        "colab": {
          "base_uri": "https://localhost:8080/"
        },
        "id": "9avqhH95ODQ6",
        "outputId": "bf0aa9e0-5b44-467a-eade-dbbacc67464e"
      },
      "execution_count": null,
      "outputs": [
        {
          "output_type": "stream",
          "name": "stdout",
          "text": [
            "       Close        RSI      MACD  Signal_Line    Upper_BB    Lower_BB  \\\n",
            "20     122.0  35.941043 -2.442370    -2.208149  270.503404  219.431596   \n",
            "21     123.0  48.940833 -1.726384    -2.111796  270.646756  219.573244   \n",
            "22     124.0  52.075472 -1.065981    -1.902633  269.242503  219.817497   \n",
            "23     125.0  59.249677  0.365002    -1.449106  270.527202  219.567798   \n",
            "24     126.0  61.148198  1.250644    -0.909156  269.695539  219.889461   \n",
            "...      ...        ...       ...          ...         ...         ...   \n",
            "6308  6226.0  17.465070 -3.530245    -0.181016  599.718571  555.886429   \n",
            "6309  6227.0  22.090730 -4.259626    -0.996738  598.121137  553.688863   \n",
            "6310  6228.0  29.338104 -4.060599    -1.609510  595.693432  553.446568   \n",
            "6311  6229.0  34.125637 -3.563235    -2.000255  595.140163  552.994837   \n",
            "6313  6231.0  44.391179 -2.889650    -2.178134  594.247771  552.897229   \n",
            "\n",
            "      Volatility  \n",
            "20     12.767952  \n",
            "21     12.768378  \n",
            "22     12.356251  \n",
            "23     12.739851  \n",
            "24     12.451519  \n",
            "...          ...  \n",
            "6308   10.958036  \n",
            "6309   11.108068  \n",
            "6310   10.561716  \n",
            "6311   10.536332  \n",
            "6313   10.337635  \n",
            "\n",
            "[5799 rows x 7 columns]\n"
          ]
        }
      ]
    },
    {
      "cell_type": "markdown",
      "source": [
        "### Fill NaN with specific values like mean or median"
      ],
      "metadata": {
        "id": "2j6ynJCCYwEH"
      }
    },
    {
      "cell_type": "code",
      "source": [
        "data['RSI'].fillna(data['RSI'].mean(), inplace=True)\n",
        "data['Upper_BB'].fillna(data['Upper_BB'].mean(), inplace=True)\n",
        "data['Lower_BB'].fillna(data['Lower_BB'].mean(), inplace=True)\n",
        "data['Middle_BB'].fillna(data['Middle_BB'].mean(), inplace=True)\n",
        "data['Volatility'].fillna(data['Volatility'].mean(), inplace=True)"
      ],
      "metadata": {
        "id": "cMrNk93RODTS"
      },
      "execution_count": null,
      "outputs": []
    },
    {
      "cell_type": "markdown",
      "source": [
        "### After Clearing, Feature Engineering in our dataset, We are ready to store our final dataset"
      ],
      "metadata": {
        "id": "cOAT1RC1QLpu"
      }
    },
    {
      "cell_type": "code",
      "source": [
        "data.rename(columns={'Option_Type_CE': 'Option Type'}, inplace=True)"
      ],
      "metadata": {
        "id": "nBLqnEFUk2Dd"
      },
      "execution_count": null,
      "outputs": []
    },
    {
      "cell_type": "markdown",
      "source": [
        "##Split the dataset for training and testing our model"
      ],
      "metadata": {
        "id": "eziMRqxyXGiR"
      }
    },
    {
      "cell_type": "code",
      "source": [
        "\n",
        "# Load the dataset\n",
        "data = data\n",
        "\n",
        "# Split the dataset into training and testing sets\n",
        "train_data, test_data = train_test_split(data, test_size=0.2, random_state=1)  # 20% for testing, 80% for training\n",
        "\n",
        "\n",
        "# Save the unsorted datasets to CSV files\n",
        "train_data.to_csv('/content/train_dataset_unsorted.csv', index=False)\n",
        "test_data.to_csv('/content/test_dataset_unsorted.csv', index=False)\n",
        "\n",
        "# Load the unsorted datasets\n",
        "train_data = pd.read_csv('/content/train_dataset_unsorted.csv')\n",
        "test_data = pd.read_csv('/content/test_dataset_unsorted.csv')\n",
        "\n",
        "# Sort the datasets by the 'Date' column in ascending order\n",
        "train_data_sorted = train_data.sort_values('Date', ascending=True)\n",
        "test_data_sorted = test_data.sort_values('Date', ascending=True)\n",
        "\n",
        "# Save the sorted datasets to CSV files\n",
        "train_data_sorted.to_csv('/content/train_dataset_sorted.csv', index=False)\n",
        "test_data_sorted.to_csv('/content/test_dataset_sorted.csv', index=False)\n",
        "\n",
        "print(\"Sorted and saved training and testing datasets successfully.\")\n",
        "\n"
      ],
      "metadata": {
        "id": "HiMl_duKQc0g",
        "colab": {
          "base_uri": "https://localhost:8080/"
        },
        "outputId": "d869776a-929d-40d9-d879-80156e33051e"
      },
      "execution_count": null,
      "outputs": [
        {
          "output_type": "stream",
          "name": "stdout",
          "text": [
            "Sorted and saved training and testing datasets successfully.\n"
          ]
        }
      ]
    },
    {
      "cell_type": "code",
      "source": [
        "# Load the dataset\n",
        "data = train_data_sorted #pd.read_csv('/content/train_dataset_sorted.csv')"
      ],
      "metadata": {
        "id": "iuruzXNeLAys"
      },
      "execution_count": null,
      "outputs": []
    },
    {
      "cell_type": "code",
      "source": [
        "# Convert 'Date' to datetime if necessary\n",
        "data['Date'] = pd.to_datetime(data['Date'])"
      ],
      "metadata": {
        "id": "8AtPU8m4LA0z"
      },
      "execution_count": null,
      "outputs": []
    },
    {
      "cell_type": "code",
      "source": [
        "# Set 'Date' as the index\n",
        "data.set_index('Date', inplace=True)\n",
        "# Price Movement Over Time (Line Chart for Closing Prices)\n",
        "plt.figure(figsize=(12, 6))\n",
        "plt.plot(data.index, data['Closing_Price'], label='Closing Price')\n",
        "plt.title('Closing Price Movement Over Time')\n",
        "plt.xlabel('Date')\n",
        "plt.ylabel('Price')\n",
        "plt.legend()\n",
        "plt.show()"
      ],
      "metadata": {
        "colab": {
          "base_uri": "https://localhost:8080/",
          "height": 619
        },
        "id": "XGHZkZUFLA40",
        "outputId": "652f6474-5a7f-486b-c249-65fe7fcd0b62"
      },
      "execution_count": null,
      "outputs": [
        {
          "output_type": "stream",
          "name": "stderr",
          "text": [
            "/usr/local/lib/python3.10/dist-packages/ipykernel/ipkernel.py:283: DeprecationWarning: `should_run_async` will not call `transform_cell` automatically in the future. Please pass the result to `transformed_cell` argument and any exception that happen during thetransform in `preprocessing_exc_tuple` in IPython 7.17 and above.\n",
            "  and should_run_async(code)\n"
          ]
        },
        {
          "output_type": "display_data",
          "data": {
            "text/plain": [
              "<Figure size 1200x600 with 1 Axes>"
            ],
            "image/png": "[encoded data removed]"
          },
          "metadata": {}
        }
      ]
    },
    {
      "cell_type": "code",
      "source": [
        "# Volume Over Time\n",
        "plt.figure(figsize=(12, 6))\n",
        "plt.bar(data.index, data['Volume'], color='blue')\n",
        "plt.title('Trading Volume Over Time')\n",
        "plt.xlabel('Date')\n",
        "plt.ylabel('Volume')\n",
        "plt.show()"
      ],
      "metadata": {
        "colab": {
          "base_uri": "https://localhost:8080/",
          "height": 564
        },
        "id": "ljyaO9hOLA7c",
        "outputId": "eb4d3725-e5ad-4b3a-c584-ce527823a840"
      },
      "execution_count": null,
      "outputs": [
        {
          "output_type": "display_data",
          "data": {
            "text/plain": [
              "<Figure size 1200x600 with 1 Axes>"
            ],
            "image/png": "[encoded data removed]"
          },
          "metadata": {}
        }
      ]
    },
    {
      "cell_type": "code",
      "source": [
        "# Volatility Over Time\n",
        "plt.figure(figsize=(12, 6))\n",
        "plt.plot(data.index, data['Volatility'], color='purple', label='Volatility')\n",
        "plt.title('Volatility Over Time')\n",
        "plt.xlabel('Date')\n",
        "plt.ylabel('Volatility')\n",
        "plt.legend()\n",
        "plt.show()"
      ],
      "metadata": {
        "colab": {
          "base_uri": "https://localhost:8080/",
          "height": 564
        },
        "id": "fWGXxKpDLA9a",
        "outputId": "766e63f0-2b97-4234-cf97-0f1fcb79fdc6"
      },
      "execution_count": null,
      "outputs": [
        {
          "output_type": "display_data",
          "data": {
            "text/plain": [
              "<Figure size 1200x600 with 1 Axes>"
            ],
            "image/png": "[encoded data removed]"
          },
          "metadata": {}
        }
      ]
    },
    {
      "cell_type": "markdown",
      "source": [
        "# 3. Reinforcement Learning Model Design"
      ],
      "metadata": {
        "id": "zNgz-0t1LzJa"
      }
    },
    {
      "cell_type": "markdown",
      "source": [
        "The \"Strangle\" strategy in options trading is implemented in this custom trading environment to capture profit based on significant movements in the underlying stock's price, irrespective of the direction. The strategy involves:\n",
        "\n",
        "#Buying a Call and Put Option:\n",
        "This setup includes buying a call option (betting the stock price will go up) and a put option (betting the stock price will go down) with the same expiration date but different strike prices. The call strike price is typically higher than the current stock price, while the put strike price is lower.\n",
        "Handling Different Actions:\n",
        "\n",
        "###Hold (0):\n",
        "The agent can choose to hold its position, which is modeled to occasionally reward the avoidance of potential losses.\n",
        "\n",
        "###Buy Call (1):\n",
        "Engages a long position in a call option, expecting the stock price to rise above the strike price by the expiration date.\n",
        "\n",
        "###Buy Put (2):\n",
        "Engages a long position in a put option, expecting the stock price to drop below the strike price by the expiration date.\n",
        "\n",
        "###Sell Call (3) or Put (4):\n",
        "Closes the respective position, either to realize profits if the market moves favorably, or to cut losses if the market moves against the position.\n",
        "\n",
        "#Reward Mechanism:\n",
        "The reward system is structured to reflect the profit or loss from trading decisions, adjusted by a positive constant to shift all rewards upwards, enhancing learning stability.\n",
        "\n",
        "#Market Data and Indicators:\n",
        "Uses a variety of market data points and technical indicators such as RSI, MACD, and Bollinger Bands to make informed decisions, processed and normalized to ensure they are suitable for the learning algorithm."
      ],
      "metadata": {
        "id": "DszhuHOplSZq"
      }
    },
    {
      "cell_type": "code",
      "source": [
        "class StrangleTradingEnv(gym.Env):\n",
        "    \"\"\"A trading environment for options trading that handles categorical data and technical indicators.\"\"\"\n",
        "    metadata = {'render.modes': ['human']}\n",
        "\n",
        "    def __init__(self, data):\n",
        "        super(StrangleTradingEnv, self).__init__()\n",
        "\n",
        "        # Preprocessing data\n",
        "        data['Date'] = pd.to_datetime(data['Date']).map(pd.Timestamp.toordinal)\n",
        "        self.label_encoder = LabelEncoder()\n",
        "        self.scaler = MinMaxScaler()\n",
        "\n",
        "        # Normalize continuous features\n",
        "        continuous_features = ['High_Trade_Price', 'Low_Trade_Price', 'Opening_Price', 'Closing_Price',\n",
        "                               'Last_Traded_Price', 'Volume', 'RSI', 'MACD', 'Signal_Line',\n",
        "                               'Middle_BB', 'Upper_BB', 'Lower_BB', 'Volatility']\n",
        "        data[continuous_features] = self.scaler.fit_transform(data[continuous_features])\n",
        "\n",
        "        #Categorical Encoded data\n",
        "        categorical_features = ['Option Type', 'Option Type_CE']\n",
        "        for feature in categorical_features:\n",
        "            if feature in data.columns:\n",
        "                data[feature] = self.label_encoder.fit_transform(data[feature])\n",
        "\n",
        "        self.data = data\n",
        "        self.action_space = gym.spaces.Discrete(5)  # Actions: hold, buy call, buy put, sell call, sell put\n",
        "        self.observation_space = gym.spaces.Box(low=-np.inf, high=np.inf, shape=(len(data.columns),), dtype=np.float32)\n",
        "        self.reset()\n",
        "\n",
        "    def step(self, action):\n",
        "        current_data = self.data.iloc[self.current_step]\n",
        "        done = self.current_step >= len(self.data) - 1\n",
        "        reward = 0\n",
        "\n",
        "        # Implement the logic for each action\n",
        "        if action == 0:  # Hold\n",
        "            # Reward for holding could be small and positive, reflecting the avoidance of potential loss\n",
        "            reward = 0.1 if self.position_opened else 0\n",
        "        elif action == 1 or action == 2:  # Buy call or put option\n",
        "            if not self.position_opened:\n",
        "                self.position_opened = True\n",
        "                self.entry_strike = current_data['Strike Price']\n",
        "                self.entry_index = self.current_step\n",
        "                self.option_type = 0 if action == 1 else 1\n",
        "                reward = -current_data['Ask'] if action == 1 else -current_data['Bid'] #We can simulate the option price\n",
        "        elif (action == 3 or action == 4) and self.position_opened:  # Sell call or put option\n",
        "            if (self.option_type == 0 and action == 3) or (self.option_type == 1 and action == 4):\n",
        "                self.position_opened = False\n",
        "                profit = (current_data['Last_Traded_Price'] - self.data.iloc[self.entry_index]['Last_Traded_Price']) * 100\n",
        "                reward = current_data['Bid'] if action == 3 else current_data['Ask']\n",
        "                reward += profit\n",
        "                self.option_type = None\n",
        "\n",
        "        # Positive constant to shift all rewards upwards\n",
        "        reward += 5\n",
        "\n",
        "        self.current_step += 1\n",
        "        observation = current_data.values\n",
        "        return observation, reward, done, {}\n",
        "\n",
        "    def reset(self):\n",
        "        self.current_step = 0\n",
        "        self.position_opened = False\n",
        "        self.entry_strike = None\n",
        "        self.entry_index = None\n",
        "        self.option_type = None\n",
        "        return self.data.iloc[0].values\n",
        "\n",
        "# Example usage:\n",
        "data = pd.read_csv('/content/train_dataset_sorted.csv')\n",
        "env = StrangleTradingEnv(data)\n",
        "\n",
        "# Callback for evaluating and stopping training based on reward threshold\n",
        "eval_callback = EvalCallback(env, best_model_save_path='./rl_model',\n",
        "                             log_path='./logs', eval_freq=500,\n",
        "                             deterministic=True, render=False)\n",
        "\n",
        "# Initialize the model with the environment\n",
        "model = DQN('MlpPolicy', env, verbose=1, tensorboard_log=\"./dqn_trading_tensorboard/\",\n",
        "            learning_rate=0.001, buffer_size=50000, learning_starts=1000,\n",
        "            batch_size=32, tau=1.0, gamma=0.99, train_freq=(1, 'episode'), gradient_steps=-1,\n",
        "            exploration_fraction=0.1, exploration_final_eps=0.01, target_update_interval=250)\n"
      ],
      "metadata": {
        "id": "PE65e1ZJoVLr",
        "colab": {
          "base_uri": "https://localhost:8080/"
        },
        "outputId": "7ef7d407-de56-4d21-c9e5-3bee03544558"
      },
      "execution_count": null,
      "outputs": [
        {
          "output_type": "stream",
          "name": "stderr",
          "text": [
            "/usr/local/lib/python3.10/dist-packages/stable_baselines3/common/vec_env/patch_gym.py:49: UserWarning: You provided an OpenAI Gym environment. We strongly recommend transitioning to Gymnasium environments. Stable-Baselines3 is automatically wrapping your environments in a compatibility layer, which could potentially cause issues.\n",
            "  warnings.warn(\n"
          ]
        },
        {
          "output_type": "stream",
          "name": "stdout",
          "text": [
            "Using cpu device\n",
            "Wrapping the env with a `Monitor` wrapper\n",
            "Wrapping the env in a DummyVecEnv.\n"
          ]
        }
      ]
    },
    {
      "cell_type": "markdown",
      "source": [
        "1. A constant positive reward for each step (reward += 5), ensuring that all rewards are shifted upward. This encourages the agent but must be balanced carefully to avoid making the agent overly aggressive in trading without proper risk management.\n",
        "2. An optional small reward"
      ],
      "metadata": {
        "id": "ByfIw64xkm8S"
      }
    },
    {
      "cell_type": "code",
      "source": [
        "# Assuming `env` is already your customized environment\n",
        "# Optionally wrap it with VecEnv\n",
        "vec_env = make_vec_env(lambda: env, n_envs=1)\n",
        "\n",
        "# Define the model\n",
        "model = DQN('MlpPolicy', vec_env, verbose=1, tensorboard_log=\"./dqn_trading_tensorboard/\")\n",
        "\n",
        "# Set up evaluation callback\n",
        "eval_callback = EvalCallback(env, best_model_save_path='./logs/',\n",
        "                             log_path='./logs/', eval_freq=1000,\n",
        "                             deterministic=True, render=False)\n",
        "\n",
        "# Train the model with the callback\n",
        "model.learn(total_timesteps=20000, callback=eval_callback)\n"
      ],
      "metadata": {
        "id": "Dqbx6eRNoVfh",
        "colab": {
          "base_uri": "https://localhost:8080/"
        },
        "outputId": "fd9b184a-1fc8-45c9-960e-668e62c39ce0"
      },
      "execution_count": null,
      "outputs": [
        {
          "output_type": "stream",
          "name": "stdout",
          "text": [
            "Using cpu device\n",
            "Logging to ./dqn_trading_tensorboard/DQN_1\n"
          ]
        },
        {
          "output_type": "stream",
          "name": "stderr",
          "text": [
            "/usr/local/lib/python3.10/dist-packages/stable_baselines3/common/vec_env/patch_gym.py:49: UserWarning: You provided an OpenAI Gym environment. We strongly recommend transitioning to Gymnasium environments. Stable-Baselines3 is automatically wrapping your environments in a compatibility layer, which could potentially cause issues.\n",
            "  warnings.warn(\n",
            "/usr/local/lib/python3.10/dist-packages/gym/core.py:256: DeprecationWarning: \u001b[33mWARN: Function `env.seed(seed)` is marked as deprecated and will be removed in the future. Please use `env.reset(seed=seed)` instead.\u001b[0m\n",
            "  deprecation(\n",
            "/usr/local/lib/python3.10/dist-packages/stable_baselines3/common/evaluation.py:67: UserWarning: Evaluation environment is not wrapped with a ``Monitor`` wrapper. This may result in reporting modified episode lengths and rewards, if other wrappers happen to modify these. Consider wrapping environment first with ``Monitor`` wrapper.\n",
            "  warnings.warn(\n"
          ]
        },
        {
          "output_type": "stream",
          "name": "stdout",
          "text": [
            "Eval num_timesteps=1000, episode_reward=22073.00 +/- 0.00\n",
            "Episode length: 4654.00 +/- 0.00\n",
            "----------------------------------\n",
            "| eval/               |          |\n",
            "|    mean_ep_length   | 4.65e+03 |\n",
            "|    mean_reward      | 2.21e+04 |\n",
            "| rollout/            |          |\n",
            "|    exploration_rate | 0.525    |\n",
            "| time/               |          |\n",
            "|    total_timesteps  | 1000     |\n",
            "| train/              |          |\n",
            "|    learning_rate    | 0.0001   |\n",
            "|    loss             | 186      |\n",
            "|    n_updates        | 224      |\n",
            "----------------------------------\n",
            "New best mean reward!\n",
            "Eval num_timesteps=2000, episode_reward=22902.70 +/- 0.00\n",
            "Episode length: 4654.00 +/- 0.00\n",
            "----------------------------------\n",
            "| eval/               |          |\n",
            "|    mean_ep_length   | 4.65e+03 |\n",
            "|    mean_reward      | 2.29e+04 |\n",
            "| rollout/            |          |\n",
            "|    exploration_rate | 0.0505   |\n",
            "| time/               |          |\n",
            "|    total_timesteps  | 2000     |\n",
            "| train/              |          |\n",
            "|    learning_rate    | 0.0001   |\n",
            "|    loss             | 111      |\n",
            "|    n_updates        | 474      |\n",
            "----------------------------------\n",
            "New best mean reward!\n",
            "Eval num_timesteps=3000, episode_reward=23171.00 +/- 0.00\n",
            "Episode length: 4654.00 +/- 0.00\n",
            "----------------------------------\n",
            "| eval/               |          |\n",
            "|    mean_ep_length   | 4.65e+03 |\n",
            "|    mean_reward      | 2.32e+04 |\n",
            "| rollout/            |          |\n",
            "|    exploration_rate | 0.05     |\n",
            "| time/               |          |\n",
            "|    total_timesteps  | 3000     |\n",
            "| train/              |          |\n",
            "|    learning_rate    | 0.0001   |\n",
            "|    loss             | 156      |\n",
            "|    n_updates        | 724      |\n",
            "----------------------------------\n",
            "New best mean reward!\n",
            "Eval num_timesteps=4000, episode_reward=23171.00 +/- 0.00\n",
            "Episode length: 4654.00 +/- 0.00\n",
            "----------------------------------\n",
            "| eval/               |          |\n",
            "|    mean_ep_length   | 4.65e+03 |\n",
            "|    mean_reward      | 2.32e+04 |\n",
            "| rollout/            |          |\n",
            "|    exploration_rate | 0.05     |\n",
            "| time/               |          |\n",
            "|    total_timesteps  | 4000     |\n",
            "| train/              |          |\n",
            "|    learning_rate    | 0.0001   |\n",
            "|    loss             | 109      |\n",
            "|    n_updates        | 974      |\n",
            "----------------------------------\n",
            "Eval num_timesteps=5000, episode_reward=22025.80 +/- 0.00\n",
            "Episode length: 4654.00 +/- 0.00\n",
            "----------------------------------\n",
            "| eval/               |          |\n",
            "|    mean_ep_length   | 4.65e+03 |\n",
            "|    mean_reward      | 2.2e+04  |\n",
            "| rollout/            |          |\n",
            "|    exploration_rate | 0.05     |\n",
            "| time/               |          |\n",
            "|    total_timesteps  | 5000     |\n",
            "| train/              |          |\n",
            "|    learning_rate    | 0.0001   |\n",
            "|    loss             | 20.7     |\n",
            "|    n_updates        | 1224     |\n",
            "----------------------------------\n",
            "Eval num_timesteps=6000, episode_reward=23224.50 +/- 0.00\n",
            "Episode length: 4654.00 +/- 0.00\n",
            "----------------------------------\n",
            "| eval/               |          |\n",
            "|    mean_ep_length   | 4.65e+03 |\n",
            "|    mean_reward      | 2.32e+04 |\n",
            "| rollout/            |          |\n",
            "|    exploration_rate | 0.05     |\n",
            "| time/               |          |\n",
            "|    total_timesteps  | 6000     |\n",
            "| train/              |          |\n",
            "|    learning_rate    | 0.0001   |\n",
            "|    loss             | 66.5     |\n",
            "|    n_updates        | 1474     |\n",
            "----------------------------------\n",
            "New best mean reward!\n",
            "Eval num_timesteps=7000, episode_reward=23167.00 +/- 0.00\n",
            "Episode length: 4654.00 +/- 0.00\n",
            "----------------------------------\n",
            "| eval/               |          |\n",
            "|    mean_ep_length   | 4.65e+03 |\n",
            "|    mean_reward      | 2.32e+04 |\n",
            "| rollout/            |          |\n",
            "|    exploration_rate | 0.05     |\n",
            "| time/               |          |\n",
            "|    total_timesteps  | 7000     |\n",
            "| train/              |          |\n",
            "|    learning_rate    | 0.0001   |\n",
            "|    loss             | 118      |\n",
            "|    n_updates        | 1724     |\n",
            "----------------------------------\n",
            "Eval num_timesteps=8000, episode_reward=23194.60 +/- 0.00\n",
            "Episode length: 4654.00 +/- 0.00\n",
            "----------------------------------\n",
            "| eval/               |          |\n",
            "|    mean_ep_length   | 4.65e+03 |\n",
            "|    mean_reward      | 2.32e+04 |\n",
            "| rollout/            |          |\n",
            "|    exploration_rate | 0.05     |\n",
            "| time/               |          |\n",
            "|    total_timesteps  | 8000     |\n",
            "| train/              |          |\n",
            "|    learning_rate    | 0.0001   |\n",
            "|    loss             | 58.4     |\n",
            "|    n_updates        | 1974     |\n",
            "----------------------------------\n",
            "Eval num_timesteps=9000, episode_reward=21930.00 +/- 0.00\n",
            "Episode length: 4654.00 +/- 0.00\n",
            "----------------------------------\n",
            "| eval/               |          |\n",
            "|    mean_ep_length   | 4.65e+03 |\n",
            "|    mean_reward      | 2.19e+04 |\n",
            "| rollout/            |          |\n",
            "|    exploration_rate | 0.05     |\n",
            "| time/               |          |\n",
            "|    total_timesteps  | 9000     |\n",
            "| train/              |          |\n",
            "|    learning_rate    | 0.0001   |\n",
            "|    loss             | 53.2     |\n",
            "|    n_updates        | 2224     |\n",
            "----------------------------------\n",
            "Eval num_timesteps=10000, episode_reward=22465.60 +/- 0.00\n",
            "Episode length: 4654.00 +/- 0.00\n",
            "----------------------------------\n",
            "| eval/               |          |\n",
            "|    mean_ep_length   | 4.65e+03 |\n",
            "|    mean_reward      | 2.25e+04 |\n",
            "| rollout/            |          |\n",
            "|    exploration_rate | 0.05     |\n",
            "| time/               |          |\n",
            "|    total_timesteps  | 10000    |\n",
            "| train/              |          |\n",
            "|    learning_rate    | 0.0001   |\n",
            "|    loss             | 87.5     |\n",
            "|    n_updates        | 2474     |\n",
            "----------------------------------\n",
            "Eval num_timesteps=11000, episode_reward=23171.00 +/- 0.00\n",
            "Episode length: 4654.00 +/- 0.00\n",
            "----------------------------------\n",
            "| eval/               |          |\n",
            "|    mean_ep_length   | 4.65e+03 |\n",
            "|    mean_reward      | 2.32e+04 |\n",
            "| rollout/            |          |\n",
            "|    exploration_rate | 0.05     |\n",
            "| time/               |          |\n",
            "|    total_timesteps  | 11000    |\n",
            "| train/              |          |\n",
            "|    learning_rate    | 0.0001   |\n",
            "|    loss             | 59.6     |\n",
            "|    n_updates        | 2724     |\n",
            "----------------------------------\n",
            "Eval num_timesteps=12000, episode_reward=21857.00 +/- 0.00\n",
            "Episode length: 4654.00 +/- 0.00\n",
            "----------------------------------\n",
            "| eval/               |          |\n",
            "|    mean_ep_length   | 4.65e+03 |\n",
            "|    mean_reward      | 2.19e+04 |\n",
            "| rollout/            |          |\n",
            "|    exploration_rate | 0.05     |\n",
            "| time/               |          |\n",
            "|    total_timesteps  | 12000    |\n",
            "| train/              |          |\n",
            "|    learning_rate    | 0.0001   |\n",
            "|    loss             | 57.9     |\n",
            "|    n_updates        | 2974     |\n",
            "----------------------------------\n",
            "Eval num_timesteps=13000, episode_reward=23272.80 +/- 0.00\n",
            "Episode length: 4654.00 +/- 0.00\n",
            "----------------------------------\n",
            "| eval/               |          |\n",
            "|    mean_ep_length   | 4.65e+03 |\n",
            "|    mean_reward      | 2.33e+04 |\n",
            "| rollout/            |          |\n",
            "|    exploration_rate | 0.05     |\n",
            "| time/               |          |\n",
            "|    total_timesteps  | 13000    |\n",
            "| train/              |          |\n",
            "|    learning_rate    | 0.0001   |\n",
            "|    loss             | 59.5     |\n",
            "|    n_updates        | 3224     |\n",
            "----------------------------------\n",
            "New best mean reward!\n",
            "Eval num_timesteps=14000, episode_reward=23171.00 +/- 0.00\n",
            "Episode length: 4654.00 +/- 0.00\n",
            "----------------------------------\n",
            "| eval/               |          |\n",
            "|    mean_ep_length   | 4.65e+03 |\n",
            "|    mean_reward      | 2.32e+04 |\n",
            "| rollout/            |          |\n",
            "|    exploration_rate | 0.05     |\n",
            "| time/               |          |\n",
            "|    total_timesteps  | 14000    |\n",
            "| train/              |          |\n",
            "|    learning_rate    | 0.0001   |\n",
            "|    loss             | 127      |\n",
            "|    n_updates        | 3474     |\n",
            "----------------------------------\n",
            "Eval num_timesteps=15000, episode_reward=23167.00 +/- 0.00\n",
            "Episode length: 4654.00 +/- 0.00\n",
            "----------------------------------\n",
            "| eval/               |          |\n",
            "|    mean_ep_length   | 4.65e+03 |\n",
            "|    mean_reward      | 2.32e+04 |\n",
            "| rollout/            |          |\n",
            "|    exploration_rate | 0.05     |\n",
            "| time/               |          |\n",
            "|    total_timesteps  | 15000    |\n",
            "| train/              |          |\n",
            "|    learning_rate    | 0.0001   |\n",
            "|    loss             | 22.6     |\n",
            "|    n_updates        | 3724     |\n",
            "----------------------------------\n",
            "Eval num_timesteps=16000, episode_reward=21751.00 +/- 0.00\n",
            "Episode length: 4654.00 +/- 0.00\n",
            "----------------------------------\n",
            "| eval/               |          |\n",
            "|    mean_ep_length   | 4.65e+03 |\n",
            "|    mean_reward      | 2.18e+04 |\n",
            "| rollout/            |          |\n",
            "|    exploration_rate | 0.05     |\n",
            "| time/               |          |\n",
            "|    total_timesteps  | 16000    |\n",
            "| train/              |          |\n",
            "|    learning_rate    | 0.0001   |\n",
            "|    loss             | 54.8     |\n",
            "|    n_updates        | 3974     |\n",
            "----------------------------------\n",
            "Eval num_timesteps=17000, episode_reward=21796.00 +/- 0.00\n",
            "Episode length: 4654.00 +/- 0.00\n",
            "----------------------------------\n",
            "| eval/               |          |\n",
            "|    mean_ep_length   | 4.65e+03 |\n",
            "|    mean_reward      | 2.18e+04 |\n",
            "| rollout/            |          |\n",
            "|    exploration_rate | 0.05     |\n",
            "| time/               |          |\n",
            "|    total_timesteps  | 17000    |\n",
            "| train/              |          |\n",
            "|    learning_rate    | 0.0001   |\n",
            "|    loss             | 38.6     |\n",
            "|    n_updates        | 4224     |\n",
            "----------------------------------\n",
            "Eval num_timesteps=18000, episode_reward=21895.00 +/- 0.00\n",
            "Episode length: 4654.00 +/- 0.00\n",
            "----------------------------------\n",
            "| eval/               |          |\n",
            "|    mean_ep_length   | 4.65e+03 |\n",
            "|    mean_reward      | 2.19e+04 |\n",
            "| rollout/            |          |\n",
            "|    exploration_rate | 0.05     |\n",
            "| time/               |          |\n",
            "|    total_timesteps  | 18000    |\n",
            "| train/              |          |\n",
            "|    learning_rate    | 0.0001   |\n",
            "|    loss             | 87.9     |\n",
            "|    n_updates        | 4474     |\n",
            "----------------------------------\n",
            "Eval num_timesteps=19000, episode_reward=23171.00 +/- 0.00\n",
            "Episode length: 4654.00 +/- 0.00\n",
            "----------------------------------\n",
            "| eval/               |          |\n",
            "|    mean_ep_length   | 4.65e+03 |\n",
            "|    mean_reward      | 2.32e+04 |\n",
            "| rollout/            |          |\n",
            "|    exploration_rate | 0.05     |\n",
            "| time/               |          |\n",
            "|    total_timesteps  | 19000    |\n",
            "| train/              |          |\n",
            "|    learning_rate    | 0.0001   |\n",
            "|    loss             | 57.4     |\n",
            "|    n_updates        | 4724     |\n",
            "----------------------------------\n",
            "Eval num_timesteps=20000, episode_reward=21904.00 +/- 0.00\n",
            "Episode length: 4654.00 +/- 0.00\n",
            "----------------------------------\n",
            "| eval/               |          |\n",
            "|    mean_ep_length   | 4.65e+03 |\n",
            "|    mean_reward      | 2.19e+04 |\n",
            "| rollout/            |          |\n",
            "|    exploration_rate | 0.05     |\n",
            "| time/               |          |\n",
            "|    total_timesteps  | 20000    |\n",
            "| train/              |          |\n",
            "|    learning_rate    | 0.0001   |\n",
            "|    loss             | 99.4     |\n",
            "|    n_updates        | 4974     |\n",
            "----------------------------------\n"
          ]
        },
        {
          "output_type": "execute_result",
          "data": {
            "text/plain": [
              "<stable_baselines3.dqn.dqn.DQN at 0x7fe018f1a980>"
            ]
          },
          "metadata": {},
          "execution_count": 55
        }
      ]
    },
    {
      "cell_type": "code",
      "source": [
        "# Save the model\n",
        "model.save(\"DQN_trading_model\")"
      ],
      "metadata": {
        "id": "-HRghhC1zX7-"
      },
      "execution_count": null,
      "outputs": []
    },
    {
      "cell_type": "markdown",
      "source": [
        "# 5. Backtesting and Evaluation"
      ],
      "metadata": {
        "id": "RnKSh6vAmqDR"
      }
    },
    {
      "cell_type": "markdown",
      "source": [
        "## 1. Rigorous Backtesting\n",
        "Backtesting involves simulating the trading strategy on historical data to understand how it would have performed. This simulation should encompass a variety of metrics:\n",
        "\n",
        "1. Profit/Loss (P/L): Calculate the net profits and losses throughout the simulation.\n",
        "2. Sharpe Ratio: Measures the performance of the investment compared to a risk-free asset, after adjusting for its risk. It is the average return earned in excess of the risk-free rate per unit of volatility or total risk.\n",
        "3. Maximum Drawdown: The maximum observed loss from a peak to a trough of the portfolio, before a new peak is attained. It is an indicator of downside risk over a specified time period.\n",
        "4. Consistency of Returns: Analyze the volatility of returns to assess the stability and consistency of the strategy."
      ],
      "metadata": {
        "id": "Pp4VXmg-mt2G"
      }
    },
    {
      "cell_type": "markdown",
      "source": [],
      "metadata": {
        "id": "d3qtkAXlmt5h"
      }
    },
    {
      "cell_type": "code",
      "source": [
        "def calculate_sharpe_ratio(returns, risk_free_rate=0.0):\n",
        "    \"\"\" Calculate the Sharpe ratio for the given returns. \"\"\"\n",
        "    excess_returns = returns - risk_free_rate\n",
        "    return_ratio = excess_returns.mean() / excess_returns.std()\n",
        "    return return_ratio * np.sqrt(252)  # Annualizing\n",
        "\n",
        "def calculate_max_drawdown(returns):\n",
        "    \"\"\" Calculate the maximum drawdown in the returns. \"\"\"\n",
        "    cumulative_returns = (1 + returns).cumprod()\n",
        "    peak = cumulative_returns.expanding(min_periods=1).max()\n",
        "    drawdown = (cumulative_returns - peak) / peak\n",
        "    return drawdown.min()\n",
        "\n",
        "def test_agent(env, model, num_steps):\n",
        "    \"\"\" Test the agent over a specified number of steps and calculate performance metrics. \"\"\"\n",
        "    obs = env.reset()\n",
        "    done = False\n",
        "    total_rewards = []\n",
        "    all_returns = []\n",
        "\n",
        "    while not done and num_steps > 0:\n",
        "        action, _states = model.predict(obs, deterministic=True)\n",
        "        obs, reward, done, info = env.step(action)\n",
        "        total_rewards.append(reward)\n",
        "        num_steps -= 1\n",
        "\n",
        "    returns = pd.Series(total_rewards)\n",
        "    returns_percent = returns / 100  # Assuming the rewards were scaled by 100\n",
        "\n",
        "    sharpe_ratio = calculate_sharpe_ratio(returns_percent)\n",
        "    max_drawdown = calculate_max_drawdown(returns_percent)\n",
        "\n",
        "    return {\n",
        "        \"total_profit\": sum(total_rewards),\n",
        "        \"sharpe_ratio\": sharpe_ratio,\n",
        "        \"max_drawdown\": max_drawdown,\n",
        "        \"mean_daily_return\": returns_percent.mean(),\n",
        "        \"volatility\": returns_percent.std()\n",
        "    }\n",
        "     #Volatility yeh measure karta hai ki kisi diye gaye level of return ke liye price movements ka risk kitna hai.\n",
        "     #Maximum Drawdown loss ki maximum magnitude ko batata hai jo strategy ne suffer kiya."
      ],
      "metadata": {
        "id": "Q7Q1oCaUoVQC"
      },
      "execution_count": null,
      "outputs": []
    },
    {
      "cell_type": "code",
      "source": [
        "# Load the historical test dataset\n",
        "test_data = test_data_sorted #pd.read_csv('/content/test_dataset_sorted.csv')\n",
        "test_env = StrangleTradingEnv(test_data)\n"
      ],
      "metadata": {
        "id": "1D4z90rmoVSh"
      },
      "execution_count": null,
      "outputs": []
    },
    {
      "cell_type": "code",
      "source": [
        "# Load your trained model from the ZIP file\n",
        "model_path = '/content/DQN_trading_model.zip'\n",
        "model = DQN.load(model_path)"
      ],
      "metadata": {
        "id": "PAIsLnTIwWmK"
      },
      "execution_count": null,
      "outputs": []
    },
    {
      "cell_type": "code",
      "source": [
        "# Test the agent\n",
        "test_results = test_agent(test_env, model, len(test_data))\n",
        "print(\"Test Results:\", test_results)"
      ],
      "metadata": {
        "id": "Iv9IsRr_oVUz",
        "colab": {
          "base_uri": "https://localhost:8080/"
        },
        "outputId": "3b352192-54e7-4efc-bdc7-d0bc8c02f839"
      },
      "execution_count": null,
      "outputs": [
        {
          "output_type": "stream",
          "name": "stdout",
          "text": [
            "Test Results: {'total_profit': 4434.0, 'sharpe_ratio': 1.4885253621166967, 'max_drawdown': -5.100946510233327e+20, 'mean_daily_return': 0.03809278350515464, 'volatility': 0.4062437945600605}\n"
          ]
        }
      ]
    },
    {
      "cell_type": "markdown",
      "source": [
        "## 2. Walk-Forward Testing\n",
        "Walk-forward testing is a more dynamic approach and involves continuously re-assessing and re-optimizing the parameters of the model using a rolling window of data.\n",
        "\n",
        "1. Rolling Windows: Split your data into multiple in-sample and out-of-sample periods. Train your model on each in-sample period and test on the out-of-sample data.\n",
        "2. Adaptation to Market Conditions: This method helps in understanding how well the strategy adapits to changing market conditions."
      ],
      "metadata": {
        "id": "tJaYSS-3nSl_"
      }
    },
    {
      "cell_type": "code",
      "source": [
        "# Load dataset\n",
        "data = test_data_sorted\n",
        "data['Date'] = pd.to_datetime(data['Date'])\n",
        "data.sort_values('Date', inplace=True)\n",
        "\n",
        "# Define the number of splits for walk-forward testing\n",
        "n_splits = 10\n",
        "tscv = TimeSeriesSplit(n_splits=n_splits)\n",
        "\n",
        "# Function to test the model using your custom environment\n",
        "def test_model(model, test_data):\n",
        "    env = StrangleTradingEnv(test_data)\n",
        "    obs = env.reset()\n",
        "    done = False\n",
        "    total_rewards = 0\n",
        "    while not done:\n",
        "        action, _states = model.predict(obs, deterministic=True)\n",
        "        obs, rewards, done, info = env.step(action)\n",
        "        total_rewards += rewards\n",
        "    return total_rewards\n",
        "\n",
        "# Load your trained model\n",
        "model = DQN.load('/content/DQN_trading_model.zip')\n",
        "\n",
        "# Walk-forward testing\n",
        "results = []\n",
        "for train_index, test_index in tscv.split(data):\n",
        "    test_data = data.iloc[test_index]\n",
        "    test_rewards = test_model(model, test_data)  # Test model on the testing dataset\n",
        "    results.append(test_rewards)\n",
        "    print(\"{} to {}: {}\".format(test_data['Date'].iloc[0], test_data['Date'].iloc[-1], test_rewards))\n",
        "\n",
        "# Output the results\n",
        "print(results)\n"
      ],
      "metadata": {
        "id": "6COy5TyySCdo",
        "colab": {
          "base_uri": "https://localhost:8080/"
        },
        "outputId": "ff04c700-a989-40a5-c92e-b70d3fe51b3c"
      },
      "execution_count": null,
      "outputs": [
        {
          "output_type": "stream",
          "name": "stderr",
          "text": [
            "<ipython-input-56-6a3cc4f95307>:9: SettingWithCopyWarning: \n",
            "A value is trying to be set on a copy of a slice from a DataFrame.\n",
            "Try using .loc[row_indexer,col_indexer] = value instead\n",
            "\n",
            "See the caveats in the documentation: https://pandas.pydata.org/pandas-docs/stable/user_guide/indexing.html#returning-a-view-versus-a-copy\n",
            "  data['Date'] = pd.to_datetime(data['Date']).map(pd.Timestamp.toordinal)\n",
            "<ipython-input-56-6a3cc4f95307>:17: SettingWithCopyWarning: \n",
            "A value is trying to be set on a copy of a slice from a DataFrame.\n",
            "Try using .loc[row_indexer,col_indexer] = value instead\n",
            "\n",
            "See the caveats in the documentation: https://pandas.pydata.org/pandas-docs/stable/user_guide/indexing.html#returning-a-view-versus-a-copy\n",
            "  data[continuous_features] = self.scaler.fit_transform(data[continuous_features])\n",
            "<ipython-input-56-6a3cc4f95307>:23: SettingWithCopyWarning: \n",
            "A value is trying to be set on a copy of a slice from a DataFrame.\n",
            "Try using .loc[row_indexer,col_indexer] = value instead\n",
            "\n",
            "See the caveats in the documentation: https://pandas.pydata.org/pandas-docs/stable/user_guide/indexing.html#returning-a-view-versus-a-copy\n",
            "  data[feature] = self.label_encoder.fit_transform(data[feature])\n",
            "<ipython-input-56-6a3cc4f95307>:23: SettingWithCopyWarning: \n",
            "A value is trying to be set on a copy of a slice from a DataFrame.\n",
            "Try using .loc[row_indexer,col_indexer] = value instead\n",
            "\n",
            "See the caveats in the documentation: https://pandas.pydata.org/pandas-docs/stable/user_guide/indexing.html#returning-a-view-versus-a-copy\n",
            "  data[feature] = self.label_encoder.fit_transform(data[feature])\n",
            "<ipython-input-56-6a3cc4f95307>:9: SettingWithCopyWarning: \n",
            "A value is trying to be set on a copy of a slice from a DataFrame.\n",
            "Try using .loc[row_indexer,col_indexer] = value instead\n",
            "\n",
            "See the caveats in the documentation: https://pandas.pydata.org/pandas-docs/stable/user_guide/indexing.html#returning-a-view-versus-a-copy\n",
            "  data['Date'] = pd.to_datetime(data['Date']).map(pd.Timestamp.toordinal)\n",
            "<ipython-input-56-6a3cc4f95307>:17: SettingWithCopyWarning: \n",
            "A value is trying to be set on a copy of a slice from a DataFrame.\n",
            "Try using .loc[row_indexer,col_indexer] = value instead\n",
            "\n",
            "See the caveats in the documentation: https://pandas.pydata.org/pandas-docs/stable/user_guide/indexing.html#returning-a-view-versus-a-copy\n",
            "  data[continuous_features] = self.scaler.fit_transform(data[continuous_features])\n",
            "<ipython-input-56-6a3cc4f95307>:23: SettingWithCopyWarning: \n",
            "A value is trying to be set on a copy of a slice from a DataFrame.\n",
            "Try using .loc[row_indexer,col_indexer] = value instead\n",
            "\n",
            "See the caveats in the documentation: https://pandas.pydata.org/pandas-docs/stable/user_guide/indexing.html#returning-a-view-versus-a-copy\n",
            "  data[feature] = self.label_encoder.fit_transform(data[feature])\n",
            "<ipython-input-56-6a3cc4f95307>:23: SettingWithCopyWarning: \n",
            "A value is trying to be set on a copy of a slice from a DataFrame.\n",
            "Try using .loc[row_indexer,col_indexer] = value instead\n",
            "\n",
            "See the caveats in the documentation: https://pandas.pydata.org/pandas-docs/stable/user_guide/indexing.html#returning-a-view-versus-a-copy\n",
            "  data[feature] = self.label_encoder.fit_transform(data[feature])\n",
            "<ipython-input-56-6a3cc4f95307>:9: SettingWithCopyWarning: \n",
            "A value is trying to be set on a copy of a slice from a DataFrame.\n",
            "Try using .loc[row_indexer,col_indexer] = value instead\n",
            "\n",
            "See the caveats in the documentation: https://pandas.pydata.org/pandas-docs/stable/user_guide/indexing.html#returning-a-view-versus-a-copy\n",
            "  data['Date'] = pd.to_datetime(data['Date']).map(pd.Timestamp.toordinal)\n",
            "<ipython-input-56-6a3cc4f95307>:17: SettingWithCopyWarning: \n",
            "A value is trying to be set on a copy of a slice from a DataFrame.\n",
            "Try using .loc[row_indexer,col_indexer] = value instead\n",
            "\n",
            "See the caveats in the documentation: https://pandas.pydata.org/pandas-docs/stable/user_guide/indexing.html#returning-a-view-versus-a-copy\n",
            "  data[continuous_features] = self.scaler.fit_transform(data[continuous_features])\n",
            "<ipython-input-56-6a3cc4f95307>:23: SettingWithCopyWarning: \n",
            "A value is trying to be set on a copy of a slice from a DataFrame.\n",
            "Try using .loc[row_indexer,col_indexer] = value instead\n",
            "\n",
            "See the caveats in the documentation: https://pandas.pydata.org/pandas-docs/stable/user_guide/indexing.html#returning-a-view-versus-a-copy\n",
            "  data[feature] = self.label_encoder.fit_transform(data[feature])\n",
            "<ipython-input-56-6a3cc4f95307>:23: SettingWithCopyWarning: \n",
            "A value is trying to be set on a copy of a slice from a DataFrame.\n",
            "Try using .loc[row_indexer,col_indexer] = value instead\n",
            "\n",
            "See the caveats in the documentation: https://pandas.pydata.org/pandas-docs/stable/user_guide/indexing.html#returning-a-view-versus-a-copy\n",
            "  data[feature] = self.label_encoder.fit_transform(data[feature])\n"
          ]
        },
        {
          "output_type": "stream",
          "name": "stdout",
          "text": [
            "719163 to 719163: 525\n",
            "719163 to 719163: -835.0\n",
            "719163 to 719163: -1303.0\n"
          ]
        },
        {
          "output_type": "stream",
          "name": "stderr",
          "text": [
            "<ipython-input-56-6a3cc4f95307>:9: SettingWithCopyWarning: \n",
            "A value is trying to be set on a copy of a slice from a DataFrame.\n",
            "Try using .loc[row_indexer,col_indexer] = value instead\n",
            "\n",
            "See the caveats in the documentation: https://pandas.pydata.org/pandas-docs/stable/user_guide/indexing.html#returning-a-view-versus-a-copy\n",
            "  data['Date'] = pd.to_datetime(data['Date']).map(pd.Timestamp.toordinal)\n",
            "<ipython-input-56-6a3cc4f95307>:17: SettingWithCopyWarning: \n",
            "A value is trying to be set on a copy of a slice from a DataFrame.\n",
            "Try using .loc[row_indexer,col_indexer] = value instead\n",
            "\n",
            "See the caveats in the documentation: https://pandas.pydata.org/pandas-docs/stable/user_guide/indexing.html#returning-a-view-versus-a-copy\n",
            "  data[continuous_features] = self.scaler.fit_transform(data[continuous_features])\n",
            "<ipython-input-56-6a3cc4f95307>:23: SettingWithCopyWarning: \n",
            "A value is trying to be set on a copy of a slice from a DataFrame.\n",
            "Try using .loc[row_indexer,col_indexer] = value instead\n",
            "\n",
            "See the caveats in the documentation: https://pandas.pydata.org/pandas-docs/stable/user_guide/indexing.html#returning-a-view-versus-a-copy\n",
            "  data[feature] = self.label_encoder.fit_transform(data[feature])\n",
            "<ipython-input-56-6a3cc4f95307>:23: SettingWithCopyWarning: \n",
            "A value is trying to be set on a copy of a slice from a DataFrame.\n",
            "Try using .loc[row_indexer,col_indexer] = value instead\n",
            "\n",
            "See the caveats in the documentation: https://pandas.pydata.org/pandas-docs/stable/user_guide/indexing.html#returning-a-view-versus-a-copy\n",
            "  data[feature] = self.label_encoder.fit_transform(data[feature])\n",
            "<ipython-input-56-6a3cc4f95307>:9: SettingWithCopyWarning: \n",
            "A value is trying to be set on a copy of a slice from a DataFrame.\n",
            "Try using .loc[row_indexer,col_indexer] = value instead\n",
            "\n",
            "See the caveats in the documentation: https://pandas.pydata.org/pandas-docs/stable/user_guide/indexing.html#returning-a-view-versus-a-copy\n",
            "  data['Date'] = pd.to_datetime(data['Date']).map(pd.Timestamp.toordinal)\n",
            "<ipython-input-56-6a3cc4f95307>:17: SettingWithCopyWarning: \n",
            "A value is trying to be set on a copy of a slice from a DataFrame.\n",
            "Try using .loc[row_indexer,col_indexer] = value instead\n",
            "\n",
            "See the caveats in the documentation: https://pandas.pydata.org/pandas-docs/stable/user_guide/indexing.html#returning-a-view-versus-a-copy\n",
            "  data[continuous_features] = self.scaler.fit_transform(data[continuous_features])\n",
            "<ipython-input-56-6a3cc4f95307>:23: SettingWithCopyWarning: \n",
            "A value is trying to be set on a copy of a slice from a DataFrame.\n",
            "Try using .loc[row_indexer,col_indexer] = value instead\n",
            "\n",
            "See the caveats in the documentation: https://pandas.pydata.org/pandas-docs/stable/user_guide/indexing.html#returning-a-view-versus-a-copy\n",
            "  data[feature] = self.label_encoder.fit_transform(data[feature])\n",
            "<ipython-input-56-6a3cc4f95307>:23: SettingWithCopyWarning: \n",
            "A value is trying to be set on a copy of a slice from a DataFrame.\n",
            "Try using .loc[row_indexer,col_indexer] = value instead\n",
            "\n",
            "See the caveats in the documentation: https://pandas.pydata.org/pandas-docs/stable/user_guide/indexing.html#returning-a-view-versus-a-copy\n",
            "  data[feature] = self.label_encoder.fit_transform(data[feature])\n",
            "<ipython-input-56-6a3cc4f95307>:9: SettingWithCopyWarning: \n",
            "A value is trying to be set on a copy of a slice from a DataFrame.\n",
            "Try using .loc[row_indexer,col_indexer] = value instead\n",
            "\n",
            "See the caveats in the documentation: https://pandas.pydata.org/pandas-docs/stable/user_guide/indexing.html#returning-a-view-versus-a-copy\n",
            "  data['Date'] = pd.to_datetime(data['Date']).map(pd.Timestamp.toordinal)\n",
            "<ipython-input-56-6a3cc4f95307>:17: SettingWithCopyWarning: \n",
            "A value is trying to be set on a copy of a slice from a DataFrame.\n",
            "Try using .loc[row_indexer,col_indexer] = value instead\n",
            "\n",
            "See the caveats in the documentation: https://pandas.pydata.org/pandas-docs/stable/user_guide/indexing.html#returning-a-view-versus-a-copy\n",
            "  data[continuous_features] = self.scaler.fit_transform(data[continuous_features])\n",
            "<ipython-input-56-6a3cc4f95307>:23: SettingWithCopyWarning: \n",
            "A value is trying to be set on a copy of a slice from a DataFrame.\n",
            "Try using .loc[row_indexer,col_indexer] = value instead\n",
            "\n",
            "See the caveats in the documentation: https://pandas.pydata.org/pandas-docs/stable/user_guide/indexing.html#returning-a-view-versus-a-copy\n",
            "  data[feature] = self.label_encoder.fit_transform(data[feature])\n",
            "<ipython-input-56-6a3cc4f95307>:23: SettingWithCopyWarning: \n",
            "A value is trying to be set on a copy of a slice from a DataFrame.\n",
            "Try using .loc[row_indexer,col_indexer] = value instead\n",
            "\n",
            "See the caveats in the documentation: https://pandas.pydata.org/pandas-docs/stable/user_guide/indexing.html#returning-a-view-versus-a-copy\n",
            "  data[feature] = self.label_encoder.fit_transform(data[feature])\n",
            "<ipython-input-56-6a3cc4f95307>:9: SettingWithCopyWarning: \n",
            "A value is trying to be set on a copy of a slice from a DataFrame.\n",
            "Try using .loc[row_indexer,col_indexer] = value instead\n",
            "\n",
            "See the caveats in the documentation: https://pandas.pydata.org/pandas-docs/stable/user_guide/indexing.html#returning-a-view-versus-a-copy\n",
            "  data['Date'] = pd.to_datetime(data['Date']).map(pd.Timestamp.toordinal)\n"
          ]
        },
        {
          "output_type": "stream",
          "name": "stdout",
          "text": [
            "719163 to 719163: -1827.0\n",
            "719163 to 719163: -2329.0\n",
            "719163 to 719163: -2882.0\n"
          ]
        },
        {
          "output_type": "stream",
          "name": "stderr",
          "text": [
            "<ipython-input-56-6a3cc4f95307>:17: SettingWithCopyWarning: \n",
            "A value is trying to be set on a copy of a slice from a DataFrame.\n",
            "Try using .loc[row_indexer,col_indexer] = value instead\n",
            "\n",
            "See the caveats in the documentation: https://pandas.pydata.org/pandas-docs/stable/user_guide/indexing.html#returning-a-view-versus-a-copy\n",
            "  data[continuous_features] = self.scaler.fit_transform(data[continuous_features])\n",
            "<ipython-input-56-6a3cc4f95307>:23: SettingWithCopyWarning: \n",
            "A value is trying to be set on a copy of a slice from a DataFrame.\n",
            "Try using .loc[row_indexer,col_indexer] = value instead\n",
            "\n",
            "See the caveats in the documentation: https://pandas.pydata.org/pandas-docs/stable/user_guide/indexing.html#returning-a-view-versus-a-copy\n",
            "  data[feature] = self.label_encoder.fit_transform(data[feature])\n",
            "<ipython-input-56-6a3cc4f95307>:23: SettingWithCopyWarning: \n",
            "A value is trying to be set on a copy of a slice from a DataFrame.\n",
            "Try using .loc[row_indexer,col_indexer] = value instead\n",
            "\n",
            "See the caveats in the documentation: https://pandas.pydata.org/pandas-docs/stable/user_guide/indexing.html#returning-a-view-versus-a-copy\n",
            "  data[feature] = self.label_encoder.fit_transform(data[feature])\n",
            "<ipython-input-56-6a3cc4f95307>:9: SettingWithCopyWarning: \n",
            "A value is trying to be set on a copy of a slice from a DataFrame.\n",
            "Try using .loc[row_indexer,col_indexer] = value instead\n",
            "\n",
            "See the caveats in the documentation: https://pandas.pydata.org/pandas-docs/stable/user_guide/indexing.html#returning-a-view-versus-a-copy\n",
            "  data['Date'] = pd.to_datetime(data['Date']).map(pd.Timestamp.toordinal)\n",
            "<ipython-input-56-6a3cc4f95307>:17: SettingWithCopyWarning: \n",
            "A value is trying to be set on a copy of a slice from a DataFrame.\n",
            "Try using .loc[row_indexer,col_indexer] = value instead\n",
            "\n",
            "See the caveats in the documentation: https://pandas.pydata.org/pandas-docs/stable/user_guide/indexing.html#returning-a-view-versus-a-copy\n",
            "  data[continuous_features] = self.scaler.fit_transform(data[continuous_features])\n",
            "<ipython-input-56-6a3cc4f95307>:23: SettingWithCopyWarning: \n",
            "A value is trying to be set on a copy of a slice from a DataFrame.\n",
            "Try using .loc[row_indexer,col_indexer] = value instead\n",
            "\n",
            "See the caveats in the documentation: https://pandas.pydata.org/pandas-docs/stable/user_guide/indexing.html#returning-a-view-versus-a-copy\n",
            "  data[feature] = self.label_encoder.fit_transform(data[feature])\n",
            "<ipython-input-56-6a3cc4f95307>:23: SettingWithCopyWarning: \n",
            "A value is trying to be set on a copy of a slice from a DataFrame.\n",
            "Try using .loc[row_indexer,col_indexer] = value instead\n",
            "\n",
            "See the caveats in the documentation: https://pandas.pydata.org/pandas-docs/stable/user_guide/indexing.html#returning-a-view-versus-a-copy\n",
            "  data[feature] = self.label_encoder.fit_transform(data[feature])\n",
            "<ipython-input-56-6a3cc4f95307>:9: SettingWithCopyWarning: \n",
            "A value is trying to be set on a copy of a slice from a DataFrame.\n",
            "Try using .loc[row_indexer,col_indexer] = value instead\n",
            "\n",
            "See the caveats in the documentation: https://pandas.pydata.org/pandas-docs/stable/user_guide/indexing.html#returning-a-view-versus-a-copy\n",
            "  data['Date'] = pd.to_datetime(data['Date']).map(pd.Timestamp.toordinal)\n",
            "<ipython-input-56-6a3cc4f95307>:17: SettingWithCopyWarning: \n",
            "A value is trying to be set on a copy of a slice from a DataFrame.\n",
            "Try using .loc[row_indexer,col_indexer] = value instead\n",
            "\n",
            "See the caveats in the documentation: https://pandas.pydata.org/pandas-docs/stable/user_guide/indexing.html#returning-a-view-versus-a-copy\n",
            "  data[continuous_features] = self.scaler.fit_transform(data[continuous_features])\n",
            "<ipython-input-56-6a3cc4f95307>:23: SettingWithCopyWarning: \n",
            "A value is trying to be set on a copy of a slice from a DataFrame.\n",
            "Try using .loc[row_indexer,col_indexer] = value instead\n",
            "\n",
            "See the caveats in the documentation: https://pandas.pydata.org/pandas-docs/stable/user_guide/indexing.html#returning-a-view-versus-a-copy\n",
            "  data[feature] = self.label_encoder.fit_transform(data[feature])\n",
            "<ipython-input-56-6a3cc4f95307>:23: SettingWithCopyWarning: \n",
            "A value is trying to be set on a copy of a slice from a DataFrame.\n",
            "Try using .loc[row_indexer,col_indexer] = value instead\n",
            "\n",
            "See the caveats in the documentation: https://pandas.pydata.org/pandas-docs/stable/user_guide/indexing.html#returning-a-view-versus-a-copy\n",
            "  data[feature] = self.label_encoder.fit_transform(data[feature])\n",
            "<ipython-input-56-6a3cc4f95307>:9: SettingWithCopyWarning: \n",
            "A value is trying to be set on a copy of a slice from a DataFrame.\n",
            "Try using .loc[row_indexer,col_indexer] = value instead\n",
            "\n",
            "See the caveats in the documentation: https://pandas.pydata.org/pandas-docs/stable/user_guide/indexing.html#returning-a-view-versus-a-copy\n",
            "  data['Date'] = pd.to_datetime(data['Date']).map(pd.Timestamp.toordinal)\n"
          ]
        },
        {
          "output_type": "stream",
          "name": "stdout",
          "text": [
            "719163 to 719163: -3428.0\n",
            "719163 to 719163: -3952.0\n",
            "719163 to 719163: -4488.0\n",
            "719163 to 719163: -5120.0\n",
            "[525, -835.0, -1303.0, -1827.0, -2329.0, -2882.0, -3428.0, -3952.0, -4488.0, -5120.0]\n"
          ]
        },
        {
          "output_type": "stream",
          "name": "stderr",
          "text": [
            "<ipython-input-56-6a3cc4f95307>:17: SettingWithCopyWarning: \n",
            "A value is trying to be set on a copy of a slice from a DataFrame.\n",
            "Try using .loc[row_indexer,col_indexer] = value instead\n",
            "\n",
            "See the caveats in the documentation: https://pandas.pydata.org/pandas-docs/stable/user_guide/indexing.html#returning-a-view-versus-a-copy\n",
            "  data[continuous_features] = self.scaler.fit_transform(data[continuous_features])\n",
            "<ipython-input-56-6a3cc4f95307>:23: SettingWithCopyWarning: \n",
            "A value is trying to be set on a copy of a slice from a DataFrame.\n",
            "Try using .loc[row_indexer,col_indexer] = value instead\n",
            "\n",
            "See the caveats in the documentation: https://pandas.pydata.org/pandas-docs/stable/user_guide/indexing.html#returning-a-view-versus-a-copy\n",
            "  data[feature] = self.label_encoder.fit_transform(data[feature])\n",
            "<ipython-input-56-6a3cc4f95307>:23: SettingWithCopyWarning: \n",
            "A value is trying to be set on a copy of a slice from a DataFrame.\n",
            "Try using .loc[row_indexer,col_indexer] = value instead\n",
            "\n",
            "See the caveats in the documentation: https://pandas.pydata.org/pandas-docs/stable/user_guide/indexing.html#returning-a-view-versus-a-copy\n",
            "  data[feature] = self.label_encoder.fit_transform(data[feature])\n"
          ]
        }
      ]
    },
    {
      "cell_type": "code",
      "source": [],
      "metadata": {
        "id": "ERqLC6wlSCh8"
      },
      "execution_count": null,
      "outputs": []
    },
    {
      "cell_type": "code",
      "source": [],
      "metadata": {
        "id": "XaaRzf5vWSf9"
      },
      "execution_count": null,
      "outputs": []
    },
    {
      "cell_type": "code",
      "source": [],
      "metadata": {
        "id": "nZQpjhkDuzi5"
      },
      "execution_count": null,
      "outputs": []
    },
    {
      "cell_type": "code",
      "source": [],
      "metadata": {
        "id": "O7EkQj2iuzlH"
      },
      "execution_count": null,
      "outputs": []
    },
    {
      "cell_type": "code",
      "source": [],
      "metadata": {
        "id": "DbIYGZPbuzpY"
      },
      "execution_count": null,
      "outputs": []
    },
    {
      "cell_type": "code",
      "source": [],
      "metadata": {
        "id": "9fbPqWuOuzr4"
      },
      "execution_count": null,
      "outputs": []
    },
    {
      "cell_type": "code",
      "source": [],
      "metadata": {
        "id": "oqRStnqwuzvR"
      },
      "execution_count": null,
      "outputs": []
    },
    {
      "cell_type": "code",
      "source": [],
      "metadata": {
        "id": "ABUVGc9wuzx4"
      },
      "execution_count": null,
      "outputs": []
    },
    {
      "cell_type": "code",
      "source": [],
      "metadata": {
        "id": "vYRnYBbsuz07"
      },
      "execution_count": null,
      "outputs": []
    }
  ]
}